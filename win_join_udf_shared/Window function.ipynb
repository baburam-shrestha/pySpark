{
 "cells": [
  {
   "cell_type": "code",
   "execution_count": 1,
   "id": "616f2373",
   "metadata": {},
   "outputs": [],
   "source": [
    "# windows function\n",
    "from pyspark.sql import SparkSession\n",
    "import pyspark.sql.functions as F \n",
    "from pyspark.sql import Window\n",
    "import pyspark.sql.types as T"
   ]
  },
  {
   "cell_type": "code",
   "execution_count": 2,
   "id": "89338c7a",
   "metadata": {},
   "outputs": [
    {
     "name": "stdout",
     "output_type": "stream",
     "text": [
      "22/10/19 11:35:41 WARN Utils: Your hostname, HP-G62 resolves to a loopback address: 127.0.1.1; using 192.168.18.113 instead (on interface enp3s0)\n",
      "22/10/19 11:35:41 WARN Utils: Set SPARK_LOCAL_IP if you need to bind to another address\n"
     ]
    },
    {
     "name": "stderr",
     "output_type": "stream",
     "text": [
      "Setting default log level to \"WARN\".\n",
      "To adjust logging level use sc.setLogLevel(newLevel). For SparkR, use setLogLevel(newLevel).\n"
     ]
    },
    {
     "name": "stdout",
     "output_type": "stream",
     "text": [
      "22/10/19 11:35:42 WARN NativeCodeLoader: Unable to load native-hadoop library for your platform... using builtin-java classes where applicable\n",
      "22/10/19 11:35:45 WARN Utils: Service 'SparkUI' could not bind on port 4040. Attempting port 4041.\n",
      "22/10/19 11:35:45 WARN Utils: Service 'SparkUI' could not bind on port 4041. Attempting port 4042.\n",
      "22/10/19 11:35:45 WARN Utils: Service 'SparkUI' could not bind on port 4042. Attempting port 4043.\n",
      "22/10/19 11:35:45 WARN Utils: Service 'SparkUI' could not bind on port 4043. Attempting port 4044.\n",
      "22/10/19 11:35:45 WARN Utils: Service 'SparkUI' could not bind on port 4044. Attempting port 4045.\n",
      "22/10/19 11:35:45 WARN Utils: Service 'SparkUI' could not bind on port 4045. Attempting port 4046.\n",
      "22/10/19 11:35:45 WARN Utils: Service 'SparkUI' could not bind on port 4046. Attempting port 4047.\n",
      "22/10/19 11:35:45 WARN Utils: Service 'SparkUI' could not bind on port 4047. Attempting port 4048.\n"
     ]
    }
   ],
   "source": [
    "spark=SparkSession.builder.appName(\"Windows Function\").getOrCreate()"
   ]
  },
  {
   "cell_type": "code",
   "execution_count": 3,
   "id": "0bf2d50c",
   "metadata": {},
   "outputs": [
    {
     "name": "stderr",
     "output_type": "stream",
     "text": [
      "\r",
      "[Stage 0:>                                                          (0 + 1) / 1]\r",
      "\r",
      "                                                                                \r"
     ]
    }
   ],
   "source": [
    "employee_df=spark.read.csv(\"employees.csv\",inferSchema=True,header=True)\n",
    "employee_df= employee_df.select([\"FIRST_NAME\",\"SALARY\",\"DEPARTMENT_ID\"])"
   ]
  },
  {
   "cell_type": "code",
   "execution_count": 4,
   "id": "2970c1fd",
   "metadata": {},
   "outputs": [
    {
     "name": "stdout",
     "output_type": "stream",
     "text": [
      "+----------+------+-------------+\n",
      "|FIRST_NAME|SALARY|DEPARTMENT_ID|\n",
      "+----------+------+-------------+\n",
      "|    Donald|  2600|           50|\n",
      "|   Douglas|  2600|           50|\n",
      "|  Jennifer|  4400|           10|\n",
      "|   Michael| 13000|           20|\n",
      "|       Pat|  6000|           20|\n",
      "|     Susan|  6500|           40|\n",
      "|   Hermann| 10000|           70|\n",
      "|   Shelley| 12008|          110|\n",
      "|   William|  8300|          110|\n",
      "|    Steven| 24000|           90|\n",
      "|     Neena| 17000|           90|\n",
      "|       Lex| 17000|           90|\n",
      "| Alexander|  9000|           60|\n",
      "|     Bruce|  6000|           60|\n",
      "|     David|  4800|           60|\n",
      "|     Valli|  4800|           60|\n",
      "|     Diana|  4200|           60|\n",
      "|     Nancy| 12008|          100|\n",
      "|    Daniel|  9000|          100|\n",
      "|      John|  8200|          100|\n",
      "+----------+------+-------------+\n",
      "only showing top 20 rows\n",
      "\n"
     ]
    }
   ],
   "source": [
    "employee_df.show()"
   ]
  },
  {
   "cell_type": "code",
   "execution_count": 5,
   "id": "9dab372c",
   "metadata": {},
   "outputs": [
    {
     "data": {
      "text/plain": [
       "50"
      ]
     },
     "execution_count": 5,
     "metadata": {},
     "output_type": "execute_result"
    }
   ],
   "source": [
    "employee_df.count()"
   ]
  },
  {
   "cell_type": "code",
   "execution_count": 6,
   "id": "b03afd2b",
   "metadata": {},
   "outputs": [
    {
     "data": {
      "text/plain": [
       "pyspark.sql.dataframe.DataFrame"
      ]
     },
     "execution_count": 6,
     "metadata": {},
     "output_type": "execute_result"
    }
   ],
   "source": [
    "type(employee_df)"
   ]
  },
  {
   "cell_type": "code",
   "execution_count": 7,
   "id": "7683617f",
   "metadata": {},
   "outputs": [],
   "source": [
    "#  making windows spec for partition by department id\n",
    "windowSpec=Window.partitionBy(\"DEPARTMENT_ID\")"
   ]
  },
  {
   "cell_type": "code",
   "execution_count": 8,
   "id": "a5271508",
   "metadata": {},
   "outputs": [
    {
     "name": "stdout",
     "output_type": "stream",
     "text": [
      "+----------+------+-------------+--------------------+------------------+------------+\n",
      "|FIRST_NAME|SALARY|DEPARTMENT_ID|         List Salary|    Average Salary|Total Salary|\n",
      "+----------+------+-------------+--------------------+------------------+------------+\n",
      "|  Jennifer|  4400|           10|              [4400]|            4400.0|        4400|\n",
      "|   Michael| 13000|           20|       [13000, 6000]|            9500.0|       19000|\n",
      "|       Pat|  6000|           20|       [13000, 6000]|            9500.0|       19000|\n",
      "|       Den| 11000|           30|[11000, 3100, 290...|            4150.0|       24900|\n",
      "| Alexander|  3100|           30|[11000, 3100, 290...|            4150.0|       24900|\n",
      "|    Shelli|  2900|           30|[11000, 3100, 290...|            4150.0|       24900|\n",
      "|     Sigal|  2800|           30|[11000, 3100, 290...|            4150.0|       24900|\n",
      "|       Guy|  2600|           30|[11000, 3100, 290...|            4150.0|       24900|\n",
      "|     Karen|  2500|           30|[11000, 3100, 290...|            4150.0|       24900|\n",
      "|     Susan|  6500|           40|              [6500]|            6500.0|        6500|\n",
      "|    Donald|  2600|           50|[2600, 2600, 8000...|3721.7391304347825|       85600|\n",
      "|   Douglas|  2600|           50|[2600, 2600, 8000...|3721.7391304347825|       85600|\n",
      "|   Matthew|  8000|           50|[2600, 2600, 8000...|3721.7391304347825|       85600|\n",
      "|      Adam|  8200|           50|[2600, 2600, 8000...|3721.7391304347825|       85600|\n",
      "|     Payam|  7900|           50|[2600, 2600, 8000...|3721.7391304347825|       85600|\n",
      "|    Shanta|  6500|           50|[2600, 2600, 8000...|3721.7391304347825|       85600|\n",
      "|     Kevin|  5800|           50|[2600, 2600, 8000...|3721.7391304347825|       85600|\n",
      "|     Julia|  3200|           50|[2600, 2600, 8000...|3721.7391304347825|       85600|\n",
      "|     Irene|  2700|           50|[2600, 2600, 8000...|3721.7391304347825|       85600|\n",
      "|     James|  2400|           50|[2600, 2600, 8000...|3721.7391304347825|       85600|\n",
      "+----------+------+-------------+--------------------+------------------+------------+\n",
      "only showing top 20 rows\n",
      "\n"
     ]
    },
    {
     "name": "stderr",
     "output_type": "stream",
     "text": [
      "\r",
      "[Stage 8:>                                                          (0 + 1) / 1]\r",
      "\r",
      "                                                                                \r"
     ]
    }
   ],
   "source": [
    "#  finding the salary list, average salary and total salary of each department using windows function \n",
    "win_emp_df=employee_df.withColumn(\"List Salary\",F.collect_list(F.col(\"SALARY\")).over(windowSpec))\\\n",
    "    .withColumn(\"Average Salary\",F.avg(F.col(\"SALARY\")).over(windowSpec))\\\n",
    "    .withColumn(\"Total Salary\",F.sum(F.col(\"SALARY\")).over(windowSpec))\n",
    "win_emp_df.show()"
   ]
  },
  {
   "cell_type": "code",
   "execution_count": 9,
   "id": "8fb6d300",
   "metadata": {},
   "outputs": [
    {
     "data": {
      "text/plain": [
       "50"
      ]
     },
     "execution_count": 9,
     "metadata": {},
     "output_type": "execute_result"
    }
   ],
   "source": [
    "win_emp_df.count()"
   ]
  },
  {
   "cell_type": "code",
   "execution_count": 10,
   "id": "6eba5a79",
   "metadata": {},
   "outputs": [],
   "source": [
    "#  making windows spec for partition by department id\n",
    "windowSpec=Window.partitionBy(\"DEPARTMENT_ID\").orderBy(F.asc(\"SALARY\"))"
   ]
  },
  {
   "cell_type": "code",
   "execution_count": 11,
   "id": "a7437d06",
   "metadata": {},
   "outputs": [
    {
     "name": "stdout",
     "output_type": "stream",
     "text": [
      "+----------+------+-------------+--------------------+----------+------------------+----------+------------+------------+\n",
      "|FIRST_NAME|SALARY|DEPARTMENT_ID|         List Salary|Min Salary|    Average Salary|Max Salary|Total Salary|Salary Count|\n",
      "+----------+------+-------------+--------------------+----------+------------------+----------+------------+------------+\n",
      "|  Jennifer|  4400|           10|              [4400]|      4400|            4400.0|      4400|        4400|           1|\n",
      "|       Pat|  6000|           20|              [6000]|      6000|            6000.0|      6000|        6000|           1|\n",
      "|   Michael| 13000|           20|       [6000, 13000]|      6000|            9500.0|     13000|       19000|           2|\n",
      "|     Karen|  2500|           30|              [2500]|      2500|            2500.0|      2500|        2500|           1|\n",
      "|       Guy|  2600|           30|        [2500, 2600]|      2500|            2550.0|      2600|        5100|           2|\n",
      "|     Sigal|  2800|           30|  [2500, 2600, 2800]|      2500|2633.3333333333335|      2800|        7900|           3|\n",
      "|    Shelli|  2900|           30|[2500, 2600, 2800...|      2500|            2700.0|      2900|       10800|           4|\n",
      "| Alexander|  3100|           30|[2500, 2600, 2800...|      2500|            2780.0|      3100|       13900|           5|\n",
      "|       Den| 11000|           30|[2500, 2600, 2800...|      2500|            4150.0|     11000|       24900|           6|\n",
      "|     Susan|  6500|           40|              [6500]|      6500|            6500.0|      6500|        6500|           1|\n",
      "|        TJ|  2100|           50|              [2100]|      2100|            2100.0|      2100|        2100|           1|\n",
      "|    Steven|  2200|           50|  [2100, 2200, 2200]|      2100|2166.6666666666665|      2200|        6500|           3|\n",
      "|     Hazel|  2200|           50|  [2100, 2200, 2200]|      2100|2166.6666666666665|      2200|        6500|           3|\n",
      "|     James|  2400|           50|[2100, 2200, 2200...|      2100|            2260.0|      2400|       11300|           5|\n",
      "|        Ki|  2400|           50|[2100, 2200, 2200...|      2100|            2260.0|      2400|       11300|           5|\n",
      "|     James|  2500|           50|[2100, 2200, 2200...|      2100|2328.5714285714284|      2500|       16300|           7|\n",
      "|    Joshua|  2500|           50|[2100, 2200, 2200...|      2100|2328.5714285714284|      2500|       16300|           7|\n",
      "|    Donald|  2600|           50|[2100, 2200, 2200...|      2100|2388.8888888888887|      2600|       21500|           9|\n",
      "|   Douglas|  2600|           50|[2100, 2200, 2200...|      2100|2388.8888888888887|      2600|       21500|           9|\n",
      "|     Irene|  2700|           50|[2100, 2200, 2200...|      2100|2445.4545454545455|      2700|       26900|          11|\n",
      "+----------+------+-------------+--------------------+----------+------------------+----------+------------+------------+\n",
      "only showing top 20 rows\n",
      "\n"
     ]
    }
   ],
   "source": [
    "#  finding the salary list, min salary,average salary, max salary and total salary of each department using windows function \n",
    "win_emp_df=employee_df.withColumn(\"List Salary\",F.collect_list(F.col(\"SALARY\")).over(windowSpec))\\\n",
    "    .withColumn(\"Min Salary\",F.min(F.col(\"SALARY\")).over(windowSpec))\\\n",
    "    .withColumn(\"Average Salary\",F.avg(F.col(\"SALARY\")).over(windowSpec))\\\n",
    "    .withColumn(\"Max Salary\",F.max(F.col(\"SALARY\")).over(windowSpec))\\\n",
    "    .withColumn(\"Total Salary\",F.sum(F.col(\"SALARY\")).over(windowSpec))\\\n",
    "    .withColumn(\"Salary Count\",F.count(F.col(\"SALARY\")).over(windowSpec))\n",
    "    \n",
    "win_emp_df.show()"
   ]
  },
  {
   "cell_type": "code",
   "execution_count": 12,
   "id": "4a2c322f",
   "metadata": {},
   "outputs": [
    {
     "data": {
      "text/plain": [
       "[6000, 13000]"
      ]
     },
     "execution_count": 12,
     "metadata": {},
     "output_type": "execute_result"
    }
   ],
   "source": [
    "win_emp_df.collect()[2][\"List Salary\"]"
   ]
  },
  {
   "cell_type": "code",
   "execution_count": 13,
   "id": "a735b334",
   "metadata": {},
   "outputs": [
    {
     "data": {
      "text/plain": [
       "[2100, 2200, 2200, 2400, 2400]"
      ]
     },
     "execution_count": 13,
     "metadata": {},
     "output_type": "execute_result"
    }
   ],
   "source": [
    "win_emp_df.collect()[13][\"List Salary\"]"
   ]
  },
  {
   "cell_type": "code",
   "execution_count": 14,
   "id": "9c110221",
   "metadata": {},
   "outputs": [
    {
     "data": {
      "text/plain": [
       "2400"
      ]
     },
     "execution_count": 14,
     "metadata": {},
     "output_type": "execute_result"
    }
   ],
   "source": [
    "win_emp_df.collect()[13][\"Max Salary\"]"
   ]
  },
  {
   "cell_type": "code",
   "execution_count": 15,
   "id": "5ec6cdcf",
   "metadata": {},
   "outputs": [
    {
     "data": {
      "text/plain": [
       "2100"
      ]
     },
     "execution_count": 15,
     "metadata": {},
     "output_type": "execute_result"
    }
   ],
   "source": [
    "win_emp_df.collect()[10][\"Min Salary\"]"
   ]
  },
  {
   "cell_type": "code",
   "execution_count": null,
   "id": "326fc309",
   "metadata": {},
   "outputs": [],
   "source": []
  },
  {
   "cell_type": "code",
   "execution_count": 16,
   "id": "6d2af841",
   "metadata": {},
   "outputs": [
    {
     "name": "stdout",
     "output_type": "stream",
     "text": [
      "+-------------+--------------------+----------+------------------+----------+------------+\n",
      "|DEPARTMENT_ID|         List Salary|Min Salary|    Average Salary|Max Salary|Total Salary|\n",
      "+-------------+--------------------+----------+------------------+----------+------------+\n",
      "|           10|              [4400]|      4400|            4400.0|      4400|        4400|\n",
      "|           20|              [6000]|      6000|            6000.0|      6000|        6000|\n",
      "|           20|       [6000, 13000]|      6000|            9500.0|     13000|       19000|\n",
      "|           30|              [2500]|      2500|            2500.0|      2500|        2500|\n",
      "|           30|        [2500, 2600]|      2500|            2550.0|      2600|        5100|\n",
      "|           30|  [2500, 2600, 2800]|      2500|2633.3333333333335|      2800|        7900|\n",
      "|           30|[2500, 2600, 2800...|      2500|            2700.0|      2900|       10800|\n",
      "|           30|[2500, 2600, 2800...|      2500|            2780.0|      3100|       13900|\n",
      "|           30|[2500, 2600, 2800...|      2500|            4150.0|     11000|       24900|\n",
      "|           40|              [6500]|      6500|            6500.0|      6500|        6500|\n",
      "|           50|              [2100]|      2100|            2100.0|      2100|        2100|\n",
      "|           50|  [2100, 2200, 2200]|      2100|2166.6666666666665|      2200|        6500|\n",
      "|           50|[2100, 2200, 2200...|      2100|            2260.0|      2400|       11300|\n",
      "|           50|[2100, 2200, 2200...|      2100|2328.5714285714284|      2500|       16300|\n",
      "|           50|[2100, 2200, 2200...|      2100|2388.8888888888887|      2600|       21500|\n",
      "|           50|[2100, 2200, 2200...|      2100|2445.4545454545455|      2700|       26900|\n",
      "|           50|[2100, 2200, 2200...|      2100|            2475.0|      2800|       29700|\n",
      "|           50|[2100, 2200, 2200...|      2100|2507.6923076923076|      2900|       32600|\n",
      "|           50|[2100, 2200, 2200...|      2100|            2600.0|      3200|       39000|\n",
      "|           50|[2100, 2200, 2200...|      2100|2682.3529411764707|      3300|       45600|\n",
      "+-------------+--------------------+----------+------------------+----------+------------+\n",
      "only showing top 20 rows\n",
      "\n"
     ]
    }
   ],
   "source": [
    "win_emp_df.select([\"DEPARTMENT_ID\",\"List Salary\",\"Min Salary\",\"Average Salary\",\"Max Salary\",\"Total Salary\"]).distinct().show()"
   ]
  },
  {
   "cell_type": "code",
   "execution_count": 17,
   "id": "d9397012",
   "metadata": {},
   "outputs": [
    {
     "name": "stdout",
     "output_type": "stream",
     "text": [
      "+-------------+--------------------+----------+------------------+----------+------------+------------+\n",
      "|DEPARTMENT_ID|         List Salary|Min Salary|    Average Salary|Max Salary|Total Salary|Salary Count|\n",
      "+-------------+--------------------+----------+------------------+----------+------------+------------+\n",
      "|           20|       [13000, 6000]|      6000|            9500.0|     13000|       19000|           2|\n",
      "|           40|              [6500]|      6500|            6500.0|      6500|        6500|           1|\n",
      "|          100|[12008, 9000, 820...|      6900| 8601.333333333334|     12008|       51608|           6|\n",
      "|           10|              [4400]|      4400|            4400.0|      4400|        4400|           1|\n",
      "|           50|[2600, 2600, 8000...|      2100|3721.7391304347825|      8200|       85600|          23|\n",
      "|           70|             [10000]|     10000|           10000.0|     10000|       10000|           1|\n",
      "|           90|[24000, 17000, 17...|     17000|19333.333333333332|     24000|       58000|           3|\n",
      "|           60|[9000, 6000, 4800...|      4200|            5760.0|      9000|       28800|           5|\n",
      "|          110|       [12008, 8300]|      8300|           10154.0|     12008|       20308|           2|\n",
      "|           30|[11000, 3100, 290...|      2500|            4150.0|     11000|       24900|           6|\n",
      "+-------------+--------------------+----------+------------------+----------+------------+------------+\n",
      "\n"
     ]
    }
   ],
   "source": [
    "#  it is equivalent to the result from the distinct result after windows function\n",
    "grp_emp_df=employee_df.groupBy(\"DEPARTMENT_ID\").agg(\n",
    "    F.expr(\"collect_list(SALARY)\").alias(\"List Salary\"),\n",
    "    F.expr(\"min(SALARY)\").alias(\"Min Salary\"),\n",
    "    F.expr(\"avg(SALARY)\").alias(\"Average Salary\"),\n",
    "    F.expr(\"max(SALARY)\").alias(\"Max Salary\"),\n",
    "    F.expr(\"sum(SALARY)\").alias(\"Total Salary\"),\n",
    "    F.expr(\"count(SALARY)\").alias(\"Salary Count\"))\n",
    "\n",
    "grp_emp_df.show()"
   ]
  },
  {
   "cell_type": "code",
   "execution_count": 18,
   "id": "480886fb",
   "metadata": {},
   "outputs": [
    {
     "name": "stdout",
     "output_type": "stream",
     "text": [
      "+-------------+----------+----------+\n",
      "|DEPARTMENT_ID|Min Salary|Max Salary|\n",
      "+-------------+----------+----------+\n",
      "|           20|      6000|     13000|\n",
      "|           40|      6500|      6500|\n",
      "|          100|      6900|     12008|\n",
      "|           10|      4400|      4400|\n",
      "|           50|      2100|      8200|\n",
      "|           70|     10000|     10000|\n",
      "|           90|     17000|     24000|\n",
      "|           60|      4200|      9000|\n",
      "|          110|      8300|     12008|\n",
      "|           30|      2500|     11000|\n",
      "+-------------+----------+----------+\n",
      "\n"
     ]
    }
   ],
   "source": [
    "grp_emp_df.select([\"DEPARTMENT_ID\",\"Min Salary\",\"Max Salary\"]).show()"
   ]
  },
  {
   "cell_type": "code",
   "execution_count": 20,
   "id": "e756403f",
   "metadata": {},
   "outputs": [
    {
     "name": "stdout",
     "output_type": "stream",
     "text": [
      "+-------------+--------------------+----------+------------------+----------+------------+------------+\n",
      "|DEPARTMENT_ID|         List Salary|Min Salary|    Average Salary|Max Salary|Total Salary|Salary Count|\n",
      "+-------------+--------------------+----------+------------------+----------+------------+------------+\n",
      "|           20|       [13000, 6000]|      6000|            9500.0|     13000|       19000|           2|\n",
      "|           40|              [6500]|      6500|            6500.0|      6500|        6500|           1|\n",
      "|          100|[12008, 9000, 820...|      6900| 8601.333333333334|     12008|       51608|           6|\n",
      "|           10|              [4400]|      4400|            4400.0|      4400|        4400|           1|\n",
      "|           50|[2600, 2600, 8000...|      2100|3721.7391304347825|      8200|       85600|          23|\n",
      "|           70|             [10000]|     10000|           10000.0|     10000|       10000|           1|\n",
      "|           90|[24000, 17000, 17...|     17000|19333.333333333332|     24000|       58000|           3|\n",
      "|           60|[9000, 6000, 4800...|      4200|            5760.0|      9000|       28800|           5|\n",
      "|          110|       [12008, 8300]|      8300|           10154.0|     12008|       20308|           2|\n",
      "|           30|[11000, 3100, 290...|      2500|            4150.0|     11000|       24900|           6|\n",
      "+-------------+--------------------+----------+------------------+----------+------------+------------+\n",
      "\n"
     ]
    }
   ],
   "source": [
    "grp_emp_df.show()"
   ]
  },
  {
   "cell_type": "code",
   "execution_count": 21,
   "id": "9425fb99",
   "metadata": {},
   "outputs": [
    {
     "name": "stdout",
     "output_type": "stream",
     "text": [
      "+----------+------+-------------+--------------------+----------+------------------+----------+------------+------------+\n",
      "|FIRST_NAME|SALARY|DEPARTMENT_ID|         List Salary|Min Salary|    Average Salary|Max Salary|Total Salary|Salary Count|\n",
      "+----------+------+-------------+--------------------+----------+------------------+----------+------------+------------+\n",
      "|  Jennifer|  4400|           10|              [4400]|      4400|            4400.0|      4400|        4400|           1|\n",
      "|       Pat|  6000|           20|              [6000]|      6000|            6000.0|      6000|        6000|           1|\n",
      "|   Michael| 13000|           20|       [6000, 13000]|      6000|            9500.0|     13000|       19000|           2|\n",
      "|     Karen|  2500|           30|              [2500]|      2500|            2500.0|      2500|        2500|           1|\n",
      "|       Guy|  2600|           30|        [2500, 2600]|      2500|            2550.0|      2600|        5100|           2|\n",
      "|     Sigal|  2800|           30|  [2500, 2600, 2800]|      2500|2633.3333333333335|      2800|        7900|           3|\n",
      "|    Shelli|  2900|           30|[2500, 2600, 2800...|      2500|            2700.0|      2900|       10800|           4|\n",
      "| Alexander|  3100|           30|[2500, 2600, 2800...|      2500|            2780.0|      3100|       13900|           5|\n",
      "|       Den| 11000|           30|[2500, 2600, 2800...|      2500|            4150.0|     11000|       24900|           6|\n",
      "|     Susan|  6500|           40|              [6500]|      6500|            6500.0|      6500|        6500|           1|\n",
      "|        TJ|  2100|           50|              [2100]|      2100|            2100.0|      2100|        2100|           1|\n",
      "|    Steven|  2200|           50|  [2100, 2200, 2200]|      2100|2166.6666666666665|      2200|        6500|           3|\n",
      "|     Hazel|  2200|           50|  [2100, 2200, 2200]|      2100|2166.6666666666665|      2200|        6500|           3|\n",
      "|     James|  2400|           50|[2100, 2200, 2200...|      2100|            2260.0|      2400|       11300|           5|\n",
      "|        Ki|  2400|           50|[2100, 2200, 2200...|      2100|            2260.0|      2400|       11300|           5|\n",
      "|     James|  2500|           50|[2100, 2200, 2200...|      2100|2328.5714285714284|      2500|       16300|           7|\n",
      "|    Joshua|  2500|           50|[2100, 2200, 2200...|      2100|2328.5714285714284|      2500|       16300|           7|\n",
      "|    Donald|  2600|           50|[2100, 2200, 2200...|      2100|2388.8888888888887|      2600|       21500|           9|\n",
      "|   Douglas|  2600|           50|[2100, 2200, 2200...|      2100|2388.8888888888887|      2600|       21500|           9|\n",
      "|     Irene|  2700|           50|[2100, 2200, 2200...|      2100|2445.4545454545455|      2700|       26900|          11|\n",
      "+----------+------+-------------+--------------------+----------+------------------+----------+------------+------------+\n",
      "only showing top 20 rows\n",
      "\n"
     ]
    }
   ],
   "source": [
    "win_emp_df.show()"
   ]
  }
 ],
 "metadata": {
  "kernelspec": {
   "display_name": "Python 3 (ipykernel)",
   "language": "python",
   "name": "python3"
  },
  "language_info": {
   "codemirror_mode": {
    "name": "ipython",
    "version": 3
   },
   "file_extension": ".py",
   "mimetype": "text/x-python",
   "name": "python",
   "nbconvert_exporter": "python",
   "pygments_lexer": "ipython3",
   "version": "3.10.6"
  }
 },
 "nbformat": 4,
 "nbformat_minor": 5
}
