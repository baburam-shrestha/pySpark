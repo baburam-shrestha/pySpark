{
 "cells": [
  {
   "cell_type": "code",
   "execution_count": 1,
   "id": "8469fc2f",
   "metadata": {},
   "outputs": [],
   "source": [
    "# importing pyspark\n",
    "import pyspark"
   ]
  },
  {
   "cell_type": "code",
   "execution_count": 2,
   "id": "6404c0e3",
   "metadata": {},
   "outputs": [],
   "source": [
    "# importing session from sql from pyspark to start the sessio\n",
    "from pyspark.sql import SparkSession"
   ]
  },
  {
   "cell_type": "code",
   "execution_count": 3,
   "id": "2221a889",
   "metadata": {},
   "outputs": [
    {
     "name": "stdout",
     "output_type": "stream",
     "text": [
      "22/11/02 16:00:32 WARN Utils: Your hostname, HP-G62 resolves to a loopback address: 127.0.1.1; using 192.168.18.15 instead (on interface wlo1)\n",
      "22/11/02 16:00:32 WARN Utils: Set SPARK_LOCAL_IP if you need to bind to another address\n"
     ]
    },
    {
     "name": "stderr",
     "output_type": "stream",
     "text": [
      "Setting default log level to \"WARN\".\n",
      "To adjust logging level use sc.setLogLevel(newLevel). For SparkR, use setLogLevel(newLevel).\n"
     ]
    },
    {
     "name": "stdout",
     "output_type": "stream",
     "text": [
      "22/11/02 16:00:33 WARN NativeCodeLoader: Unable to load native-hadoop library for your platform... using builtin-java classes where applicable\n"
     ]
    }
   ],
   "source": [
    "# creating the seasion\n",
    "spark = SparkSession.builder.appName(\"Apache PySpark Final Project-Zomato\").getOrCreate()"
   ]
  },
  {
   "cell_type": "code",
   "execution_count": 4,
   "id": "17b782cc",
   "metadata": {},
   "outputs": [
    {
     "name": "stderr",
     "output_type": "stream",
     "text": [
      "                                                                                \r"
     ]
    }
   ],
   "source": [
    "# creating zomato dataframe fro the zomato.csv file\n",
    "zomato_df = spark.read.csv('zomato.csv',inferSchema=True,header=True)"
   ]
  },
  {
   "cell_type": "code",
   "execution_count": 5,
   "id": "a313c6ee",
   "metadata": {},
   "outputs": [
    {
     "name": "stdout",
     "output_type": "stream",
     "text": [
      "root\n",
      " |-- url: string (nullable = true)\n",
      " |-- address: string (nullable = true)\n",
      " |-- name: string (nullable = true)\n",
      " |-- online_order: string (nullable = true)\n",
      " |-- book_table: string (nullable = true)\n",
      " |-- rate: string (nullable = true)\n",
      " |-- votes: string (nullable = true)\n",
      " |-- phone: string (nullable = true)\n",
      " |-- location: string (nullable = true)\n",
      " |-- rest_type: string (nullable = true)\n",
      " |-- dish_liked: string (nullable = true)\n",
      " |-- cuisines: string (nullable = true)\n",
      " |-- approx_cost(for two people): string (nullable = true)\n",
      " |-- reviews_list: string (nullable = true)\n",
      " |-- menu_item: string (nullable = true)\n",
      " |-- listed_in(type): string (nullable = true)\n",
      " |-- listed_in(city): string (nullable = true)\n",
      "\n"
     ]
    }
   ],
   "source": [
    "# printing the schema of zomato dataframe\n",
    "zomato_df.printSchema()"
   ]
  },
  {
   "cell_type": "code",
   "execution_count": 6,
   "id": "df7c3d02",
   "metadata": {},
   "outputs": [
    {
     "name": "stdout",
     "output_type": "stream",
     "text": [
      "+--------------------+--------------------+--------------------+--------------------+--------------------+-----+--------------------+--------------------+--------------------+--------------------+--------------------+--------------------+---------------------------+--------------------+--------------------+--------------------+--------------------+\n",
      "|                 url|             address|                name|        online_order|          book_table| rate|               votes|               phone|            location|           rest_type|          dish_liked|            cuisines|approx_cost(for two people)|        reviews_list|           menu_item|     listed_in(type)|     listed_in(city)|\n",
      "+--------------------+--------------------+--------------------+--------------------+--------------------+-----+--------------------+--------------------+--------------------+--------------------+--------------------+--------------------+---------------------------+--------------------+--------------------+--------------------+--------------------+\n",
      "|https://www.zomat...|942, 21st Main Ro...|               Jalsa|                 Yes|                 Yes|4.1/5|                 775|        080 42297555|                null|                null|                null|                null|                       null|                null|                null|                null|                null|\n",
      "|     +91 9743772233\"|        Banashankari|       Casual Dining|Pasta, Lunch Buff...|North Indian, Mug...|  800|\"[('Rated 4.0', '...|        ('Rated 4.0'| 'RATED\\n  You ca...|        ('Rated 5.0'| 'RATED\\n  Overde...|        ('Rated 4.0'|        'RATED\\n  The pl...|        ('Rated 4.0'| 'RATED\\n  The pl...|        ('Rated 4.0'| 'RATED\\n  The pl...|\n",
      "|https://www.zomat...|2nd Floor, 80 Fee...|      Spice Elephant|                 Yes|                  No|4.1/5|                 787|        080 41714161|        Banashankari|       Casual Dining|Momos, Lunch Buff...|Chinese, North In...|                        800|\"[('Rated 4.0', '...|rice was well coo...|        ('Rated 5.0'| 'RATED\\n  This p...|\n",
      "|https://www.zomat...|1112, Next to KIM...|     San Churro Cafe|                 Yes|                  No|3.8/5|                 918|      +91 9663487993|        Banashankari| Cafe, Casual Dining|Churros, Cannello...|Cafe, Mexican, It...|                        800|\"[('Rated 3.0', \"...|        ('Rated 3.0'| \"\"RATED\\n \\nWent...| pasta churros an...|\n",
      "|https://www.zomat...|1st Floor, Annaku...|Addhuri Udupi Bho...|                  No|                  No|3.7/5|                  88|      +91 9620009302|        Banashankari|         Quick Bites|         Masala Dosa|South Indian, Nor...|                        300|\"[('Rated 4.0', \"...|        ('Rated 2.0'| 'RATED\\n  Reache...|        ('Rated 4.0'|\n",
      "|https://www.zomat...|10, 3rd Floor, La...|       Grand Village|                  No|                  No|3.8/5|                 166|      +91 8026612447|                null|                null|                null|                null|                       null|                null|                null|                null|                null|\n",
      "|     +91 9901210005\"|        Basavanagudi|       Casual Dining| Panipuri, Gol Gappe|North Indian, Raj...|  600|[('Rated 4.0', 'R...|                  []|              Buffet|        Banashankari|                null|                null|                       null|                null|                null|                null|                null|\n",
      "|https://www.zomat...|37, 5-1, 4th Floo...|     Timepass Dinner|                 Yes|                  No|3.8/5|                 286|      +91 9980040002|                null|                null|                null|                null|                       null|                null|                null|                null|                null|\n",
      "|     +91 9980063005\"|        Basavanagudi|       Casual Dining|Onion Rings, Past...|        North Indian|  600|[('Rated 3.0', 'R...|                  []|              Buffet|        Banashankari|                null|                null|                       null|                null|                null|                null|                null|\n",
      "|https://www.zomat...|19/1, New Timbery...|Rosewood Internat...|                  No|                  No|3.6/5|                   8|      +91 9731716688|                null|                null|                null|                null|                       null|                null|                null|                null|                null|\n",
      "|       080 26740366\"|         Mysore Road|       Casual Dining|                null|North Indian, Sou...|  800|[('Rated 5.0', 'R...|                  []|              Buffet|        Banashankari|                null|                null|                       null|                null|                null|                null|                null|\n",
      "|https://www.zomat...|2469, 3rd Floor, ...|              Onesta|                 Yes|                 Yes|4.6/5|                2556|        080 48653961|                null|                null|                null|                null|                       null|                null|                null|                null|                null|\n",
      "|       080 48655715\"|        Banashankari| Casual Dining, Cafe|Farmhouse Pizza, ...|Pizza, Cafe, Italian|  600|\"[('Rated 5.0', '...| and my 5th diffe...|            JP Nagar|        Basavanagudi| Koramangala baka...| it's the unlimit...|                        but| but there is a c...| unlimited desser...| one dessert and ...| I have been thro...|\n",
      "|https://www.zomat...|1, 30th Main Road...|      Penthouse Cafe|                 Yes|                  No|4.0/5|                 324|      +91 8884135549|                null|                null|                null|                null|                       null|                null|                null|                null|                null|\n",
      "|     +91 9449449316\"|        Banashankari|                Cafe|Pizza, Mocktails,...|Cafe, Italian, Co...|  700|\"[('Rated 3.0', \"...| it's a very smal...|        ('Rated 4.0'|    \"\"RATED\\n  Small|                cosy| covered rooftop ...|                      pasta| pizza and sizzle...|        ('Rated 4.0'| \"\"RATED\\n  Small...|        ('Rated 4.0'|\n",
      "|https://www.zomat...|2470, 21 Main Roa...|           Smacznego|                 Yes|                  No|4.2/5|                 504|      +91 9945230807|                null|                null|                null|                null|                       null|                null|                null|                null|                null|\n",
      "|     +91 9743804471\"|        Banashankari|                Cafe|Waffles, Pasta, C...|Cafe, Mexican, It...|  550|\"[('Rated 4.0', \"...|        ('Rated 4.0'| 'RATED\\n  A tuck...| slightly off the...| they served in f...|        ('Rated 5.0'|        'RATED\\n  Been h...| although takes a...| do taste quite y...|        ('Rated 5.0'| 'RATED\\n  Being ...|\n",
      "|https://www.zomat...|12,29 Near PES Un...|CafÃÂÃÂÃÂÃ...|                 Yes|                  No|4.1/5|                 402|        080 26724489|                null|                null|                null|                null|                       null|                null|                null|                null|                null|\n",
      "|     +91 7406048982\"|        Banashankari|                Cafe|Waffles, Pasta, C...|                Cafe|  500|\"[('Rated 4.0', '...| I wish they gave...| pasta arrabiata ...| waffles and nugg...| a good hangout p...| I wouldn't sugge...|               ('Rated 3.0'| 'RATED\\n  A good...| and this place c...|                  []|               Cafes|\n",
      "|https://www.zomat...|941, 3rd FLOOR, 2...|        Cafe Shuffle|                 Yes|                 Yes|4.2/5|                 150|      +91 9742166777|        Banashankari|                Cafe|Mocktails, Peri F...|Cafe, Italian, Co...|                        600|\"[('Rated 1.0', \"...| you get it liter...|        ('Rated 4.0'| \"\"RATED\\n  While...|\n",
      "+--------------------+--------------------+--------------------+--------------------+--------------------+-----+--------------------+--------------------+--------------------+--------------------+--------------------+--------------------+---------------------------+--------------------+--------------------+--------------------+--------------------+\n",
      "only showing top 20 rows\n",
      "\n"
     ]
    }
   ],
   "source": [
    "# showing the data from zomato dataframe\n",
    "zomato_df.show()"
   ]
  },
  {
   "cell_type": "code",
   "execution_count": 7,
   "id": "a42973ff",
   "metadata": {},
   "outputs": [
    {
     "data": {
      "text/plain": [
       "['url',\n",
       " 'address',\n",
       " 'name',\n",
       " 'online_order',\n",
       " 'book_table',\n",
       " 'rate',\n",
       " 'votes',\n",
       " 'phone',\n",
       " 'location',\n",
       " 'rest_type',\n",
       " 'dish_liked',\n",
       " 'cuisines',\n",
       " 'approx_cost(for two people)',\n",
       " 'reviews_list',\n",
       " 'menu_item',\n",
       " 'listed_in(type)',\n",
       " 'listed_in(city)']"
      ]
     },
     "execution_count": 7,
     "metadata": {},
     "output_type": "execute_result"
    }
   ],
   "source": [
    "# printing the columns of zomato dataframe\n",
    "zomato_df.columns"
   ]
  },
  {
   "cell_type": "code",
   "execution_count": 8,
   "id": "dca9d5ae",
   "metadata": {},
   "outputs": [],
   "source": [
    "# Change the column name “rate”  into rating\n",
    "# Change the column name “approx_cost (for two people)”  into approx_cost_two_people\n",
    "# Change the column name “listed_in(type)” into category_listed\n",
    "# Change the column name “listed_in(city)” into city\n",
    "# Change the column name “rest_type” into type\n",
    "zomato_df=zomato_df.withColumnRenamed(\"rate\",\"rating\")\\\n",
    "    .withColumnRenamed(\"approx_cost(for two people)\",\"approx_cost_two_people\")\\\n",
    "    .withColumnRenamed(\"listed_in(type)\",\"category_listed\")\\\n",
    "    .withColumnRenamed(\"listed_in(city)\",\"city\")\\\n",
    "    .withColumnRenamed(\"rest_type\",\"type\")\n",
    "\n",
    "zomato_df.printSchema()"
   ]
  },
  {
   "cell_type": "code",
   "execution_count": 14,
   "id": "1862f395",
   "metadata": {},
   "outputs": [
    {
     "data": {
      "text/plain": [
       "['url',\n",
       " 'address',\n",
       " 'name',\n",
       " 'online_order',\n",
       " 'book_table',\n",
       " 'rating',\n",
       " 'votes',\n",
       " 'phone',\n",
       " 'location',\n",
       " 'type',\n",
       " 'dish_liked',\n",
       " 'cuisines',\n",
       " 'approx_cost_two_people',\n",
       " 'reviews_list',\n",
       " 'menu_item',\n",
       " 'category_listed',\n",
       " 'city']"
      ]
     },
     "execution_count": 14,
     "metadata": {},
     "output_type": "execute_result"
    }
   ],
   "source": [
    "# removing  dupicate rows from the zomato dataframe\n",
    "zomato_df.dropDuplicates()\n",
    "zomato_df.columns"
   ]
  },
  {
   "cell_type": "code",
   "execution_count": 15,
   "id": "6d53ecc2",
   "metadata": {},
   "outputs": [
    {
     "data": {
      "text/plain": [
       "['url',\n",
       " 'address',\n",
       " 'name',\n",
       " 'online_order',\n",
       " 'book_table',\n",
       " 'rating',\n",
       " 'votes',\n",
       " 'phone',\n",
       " 'location',\n",
       " 'type',\n",
       " 'dish_liked',\n",
       " 'cuisines',\n",
       " 'approx_cost_two_people',\n",
       " 'reviews_list',\n",
       " 'menu_item',\n",
       " 'category_listed']"
      ]
     },
     "execution_count": 15,
     "metadata": {},
     "output_type": "execute_result"
    }
   ],
   "source": [
    "# city and location, both are here, lets keep only one (location)\n",
    "zomato_df=zomato_df.drop(\"city\")\n",
    "zomato_df.columns"
   ]
  },
  {
   "cell_type": "code",
   "execution_count": 16,
   "id": "b7208fd6",
   "metadata": {},
   "outputs": [
    {
     "data": {
      "text/plain": [
       "['name',\n",
       " 'online_order',\n",
       " 'book_table',\n",
       " 'rating',\n",
       " 'votes',\n",
       " 'phone',\n",
       " 'location',\n",
       " 'type',\n",
       " 'dish_liked',\n",
       " 'cuisines',\n",
       " 'approx_cost_two_people',\n",
       " 'menu_item',\n",
       " 'category_listed']"
      ]
     },
     "execution_count": 16,
     "metadata": {},
     "output_type": "execute_result"
    }
   ],
   "source": [
    "# dropping url. address, menu list , review list\n",
    "zomato_df=zomato_df.drop(\"url\",\"address\",\"menu_item\",\"reviews_list\",\"city\",\"category_listed\")\n",
    "zomato_df.columns"
   ]
  },
  {
   "cell_type": "code",
   "execution_count": 17,
   "id": "00df8aef",
   "metadata": {},
   "outputs": [
    {
     "name": "stdout",
     "output_type": "stream",
     "text": [
      "+--------------------+--------------------+--------------------+------+--------------------+--------------------+--------------------+-------------------+--------------------+--------------------+----------------------+--------------------+--------------------+\n",
      "|                name|        online_order|          book_table|rating|               votes|               phone|            location|               type|          dish_liked|            cuisines|approx_cost_two_people|           menu_item|     category_listed|\n",
      "+--------------------+--------------------+--------------------+------+--------------------+--------------------+--------------------+-------------------+--------------------+--------------------+----------------------+--------------------+--------------------+\n",
      "|       Casual Dining|Pasta, Lunch Buff...|North Indian, Mug...|   800|\"[('Rated 4.0', '...|        ('Rated 4.0'| 'RATED\\n  You ca...|       ('Rated 5.0'| 'RATED\\n  Overde...|        ('Rated 4.0'|   'RATED\\n  The pl...| 'RATED\\n  The pl...|        ('Rated 4.0'|\n",
      "|      Spice Elephant|                 Yes|                  No| 4.1/5|                 787|        080 41714161|        Banashankari|      Casual Dining|Momos, Lunch Buff...|Chinese, North In...|                   800|rice was well coo...|        ('Rated 5.0'|\n",
      "|     San Churro Cafe|                 Yes|                  No| 3.8/5|                 918|      +91 9663487993|        Banashankari|Cafe, Casual Dining|Churros, Cannello...|Cafe, Mexican, It...|                   800|        ('Rated 3.0'| \"\"RATED\\n \\nWent...|\n",
      "|Addhuri Udupi Bho...|                  No|                  No| 3.7/5|                  88|      +91 9620009302|        Banashankari|        Quick Bites|         Masala Dosa|South Indian, Nor...|                   300|        ('Rated 2.0'| 'RATED\\n  Reache...|\n",
      "| Casual Dining, Cafe|Farmhouse Pizza, ...|Pizza, Cafe, Italian|   600|\"[('Rated 5.0', '...| and my 5th diffe...|            JP Nagar|       Basavanagudi| Koramangala baka...| it's the unlimit...|                   but| unlimited desser...| one dessert and ...|\n",
      "+--------------------+--------------------+--------------------+------+--------------------+--------------------+--------------------+-------------------+--------------------+--------------------+----------------------+--------------------+--------------------+\n",
      "only showing top 5 rows\n",
      "\n"
     ]
    }
   ],
   "source": [
    "# removing  null rows containg null values from the zomato dataframe\n",
    "zomato_df=zomato_df.na.drop(\"any\")\n",
    "zomato_df.show()"
   ]
  },
  {
   "cell_type": "code",
   "execution_count": 18,
   "id": "63c4da89",
   "metadata": {},
   "outputs": [
    {
     "name": "stderr",
     "output_type": "stream",
     "text": [
      "                                                                                \r"
     ]
    },
    {
     "data": {
      "text/plain": [
       "19490"
      ]
     },
     "execution_count": 18,
     "metadata": {},
     "output_type": "execute_result"
    }
   ],
   "source": [
    "zomato_df.count()"
   ]
  },
  {
   "cell_type": "code",
   "execution_count": 2,
   "id": "288069bf",
   "metadata": {},
   "outputs": [
    {
     "ename": "NameError",
     "evalue": "name 'zomato_df' is not defined",
     "output_type": "error",
     "traceback": [
      "\u001b[0;31m---------------------------------------------------------------------------\u001b[0m",
      "\u001b[0;31mNameError\u001b[0m                                 Traceback (most recent call last)",
      "\u001b[0;32m/tmp/ipykernel_8334/2426369048.py\u001b[0m in \u001b[0;36m<module>\u001b[0;34m\u001b[0m\n\u001b[0;32m----> 1\u001b[0;31m \u001b[0mzomato_df\u001b[0m\u001b[0;34m.\u001b[0m\u001b[0mtoPandas\u001b[0m\u001b[0;34m(\u001b[0m\u001b[0;34m)\u001b[0m\u001b[0;34m.\u001b[0m\u001b[0mto_csv\u001b[0m\u001b[0;34m(\u001b[0m\u001b[0;34m'data/cleaned_zomato.csv'\u001b[0m\u001b[0;34m,\u001b[0m\u001b[0mindex\u001b[0m\u001b[0;34m=\u001b[0m \u001b[0;32mFalse\u001b[0m\u001b[0;34m)\u001b[0m\u001b[0;34m\u001b[0m\u001b[0;34m\u001b[0m\u001b[0m\n\u001b[0m",
      "\u001b[0;31mNameError\u001b[0m: name 'zomato_df' is not defined"
     ]
    }
   ],
   "source": [
    "zomato_df.toPandas().to_csv('data/cleaned_zomato.csv',index= False)"
   ]
  },
  {
   "cell_type": "code",
   "execution_count": null,
   "id": "a7c7122b",
   "metadata": {},
   "outputs": [],
   "source": [
    "import pandas as np"
   ]
  },
  {
   "cell_type": "code",
   "execution_count": 3,
   "id": "774e661a",
   "metadata": {},
   "outputs": [
    {
     "ename": "NameError",
     "evalue": "name 'pd' is not defined",
     "output_type": "error",
     "traceback": [
      "\u001b[0;31m---------------------------------------------------------------------------\u001b[0m",
      "\u001b[0;31mNameError\u001b[0m                                 Traceback (most recent call last)",
      "\u001b[0;32m/tmp/ipykernel_8334/3893946574.py\u001b[0m in \u001b[0;36m<module>\u001b[0;34m\u001b[0m\n\u001b[0;32m----> 1\u001b[0;31m \u001b[0mcleaned_zomato_df\u001b[0m\u001b[0;34m=\u001b[0m\u001b[0mpd\u001b[0m\u001b[0;34m.\u001b[0m\u001b[0mread_csv\u001b[0m\u001b[0;34m(\u001b[0m\u001b[0;34m\"cleaned_zomato.csv\"\u001b[0m\u001b[0;34m)\u001b[0m\u001b[0;34m\u001b[0m\u001b[0;34m\u001b[0m\u001b[0m\n\u001b[0m\u001b[1;32m      2\u001b[0m \u001b[0mcleaned_zomato_df\u001b[0m\u001b[0;34m.\u001b[0m\u001b[0mcount\u001b[0m\u001b[0;34m(\u001b[0m\u001b[0;34m)\u001b[0m\u001b[0;34m\u001b[0m\u001b[0;34m\u001b[0m\u001b[0m\n",
      "\u001b[0;31mNameError\u001b[0m: name 'pd' is not defined"
     ]
    }
   ],
   "source": [
    "cleaned_zomato_df=pd.read_csv(\"cleaned_zomato.csv\")\n",
    "cleaned_zomato_df.count()"
   ]
  },
  {
   "cell_type": "code",
   "execution_count": 5,
   "id": "d6d94c79",
   "metadata": {},
   "outputs": [
    {
     "ename": "NameError",
     "evalue": "name 'cleaned_zomato_df' is not defined",
     "output_type": "error",
     "traceback": [
      "\u001b[0;31m---------------------------------------------------------------------------\u001b[0m",
      "\u001b[0;31mNameError\u001b[0m                                 Traceback (most recent call last)",
      "\u001b[0;32m/tmp/ipykernel_8334/3220295664.py\u001b[0m in \u001b[0;36m<module>\u001b[0;34m\u001b[0m\n\u001b[0;32m----> 1\u001b[0;31m cleaned_zomato_df.drop([(cleaned_zomato_df['online_order'] != \"Yes\") | \\\n\u001b[0m\u001b[1;32m      2\u001b[0m                         (cleaned_zomato_df['online_order'] != \"No\")],inplace=True)\n\u001b[1;32m      3\u001b[0m \u001b[0mcleaned_zomato_df\u001b[0m\u001b[0;34m.\u001b[0m\u001b[0mcount\u001b[0m\u001b[0;34m(\u001b[0m\u001b[0;34m)\u001b[0m\u001b[0;34m\u001b[0m\u001b[0;34m\u001b[0m\u001b[0m\n",
      "\u001b[0;31mNameError\u001b[0m: name 'cleaned_zomato_df' is not defined"
     ]
    }
   ],
   "source": [
    "cleaned_zomato_df.drop([(cleaned_zomato_df['online_order'] != \"Yes\") | \\\n",
    "                        (cleaned_zomato_df['online_order'] != \"No\")],inplace=True)\n",
    "cleaned_zomato_df.count()"
   ]
  },
  {
   "cell_type": "code",
   "execution_count": null,
   "id": "d8c4b8c6",
   "metadata": {},
   "outputs": [],
   "source": [
    "cleaned_zomato_df.to_csv(\"cleaned_zomato_df.csv\",index=False)\n",
    "cleaned_zomato_df.to_excel(\"cleaned_zomato_df.xlsx\",index=False)"
   ]
  }
 ],
 "metadata": {
  "kernelspec": {
   "display_name": "Python 3 (ipykernel)",
   "language": "python",
   "name": "python3"
  },
  "language_info": {
   "codemirror_mode": {
    "name": "ipython",
    "version": 3
   },
   "file_extension": ".py",
   "mimetype": "text/x-python",
   "name": "python",
   "nbconvert_exporter": "python",
   "pygments_lexer": "ipython3",
   "version": "3.10.6"
  }
 },
 "nbformat": 4,
 "nbformat_minor": 5
}
