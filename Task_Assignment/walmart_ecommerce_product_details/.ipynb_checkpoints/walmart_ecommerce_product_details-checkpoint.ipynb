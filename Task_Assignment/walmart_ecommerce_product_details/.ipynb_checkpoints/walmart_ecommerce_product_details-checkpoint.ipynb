{
 "cells": [
  {
   "cell_type": "code",
   "execution_count": 1,
   "id": "de5aa5e9",
   "metadata": {},
   "outputs": [],
   "source": [
    "# importing pandas and numpy\n",
    "import pandas as pd\n",
    "import numpy as np"
   ]
  },
  {
   "cell_type": "code",
   "execution_count": 2,
   "id": "08e43ae1",
   "metadata": {},
   "outputs": [],
   "source": [
    "# importing pyspark\n",
    "import pyspark"
   ]
  },
  {
   "cell_type": "code",
   "execution_count": 3,
   "id": "514bb508",
   "metadata": {},
   "outputs": [],
   "source": [
    "# importing the spark session\n",
    "from pyspark.sql import SparkSession"
   ]
  },
  {
   "cell_type": "code",
   "execution_count": 4,
   "id": "07da6e71",
   "metadata": {},
   "outputs": [
    {
     "name": "stdout",
     "output_type": "stream",
     "text": [
      "22/10/20 10:32:04 WARN Utils: Your hostname, HP-G62 resolves to a loopback address: 127.0.1.1; using 192.168.18.113 instead (on interface enp3s0)\n",
      "22/10/20 10:32:04 WARN Utils: Set SPARK_LOCAL_IP if you need to bind to another address\n"
     ]
    },
    {
     "name": "stderr",
     "output_type": "stream",
     "text": [
      "Setting default log level to \"WARN\".\n",
      "To adjust logging level use sc.setLogLevel(newLevel). For SparkR, use setLogLevel(newLevel).\n"
     ]
    },
    {
     "name": "stdout",
     "output_type": "stream",
     "text": [
      "22/10/20 10:32:05 WARN NativeCodeLoader: Unable to load native-hadoop library for your platform... using builtin-java classes where applicable\n"
     ]
    }
   ],
   "source": [
    "# creating the seasion\n",
    "spark = SparkSession.builder.appName(\"Walmart Ecommerce Product Details\").getOrCreate()"
   ]
  },
  {
   "cell_type": "code",
   "execution_count": 5,
   "id": "38bf48a7",
   "metadata": {},
   "outputs": [
    {
     "name": "stderr",
     "output_type": "stream",
     "text": [
      "                                                                                \r"
     ]
    }
   ],
   "source": [
    "# Read JSON file into dataframe\n",
    "walmart_df = spark.read.json(\"walmart_ecommerce_product_details.json\")"
   ]
  },
  {
   "cell_type": "code",
   "execution_count": 6,
   "id": "2dace6f2",
   "metadata": {},
   "outputs": [
    {
     "name": "stdout",
     "output_type": "stream",
     "text": [
      "+---------+--------------------+--------------------+--------------------+--------------------+------------+-----------+----------+---------------+-----------+--------------------+--------------------+----------+--------------------+---------------+\n",
      "|Available|               Brand|            Category|     Crawl Timestamp|         Description|        Gtin|Item Number|List Price|   Package Size|Postal Code|        Product Name|         Product Url|Sale Price|             Uniq Id|_corrupt_record|\n",
      "+---------+--------------------+--------------------+--------------------+--------------------+------------+-----------+----------+---------------+-----------+--------------------+--------------------+----------+--------------------+---------------+\n",
      "|     TRUE|       In Style Eyes|Health|Home Healt...|2019-03-22 17:10:...|Stunning Looking ...|096647824338|           |     19.99|               |           |In Style Eyes Cat...|https://www.walma...|     19.99|459b05f3cb7f1cba0...|           null|\n",
      "|     TRUE|       In Style Eyes|Health|Home Healt...|2019-03-22 17:10:...|Stunning Looking ...|096647824277|           |     19.99|               |           |In Style Eyes Cat...|https://www.walma...|     19.99|6a1bddc2801cbba53...|           null|\n",
      "|     TRUE|       In Style Eyes|Health|Home Healt...|2019-03-22 17:10:...|Stunning Looking ...|096647824499|           |     19.99|               |           |In Style Eyes Cat...|https://www.walma...|     19.99|4d237340ae8361b4b...|           null|\n",
      "|     TRUE|       In Style Eyes|Health|Home Healt...|2019-03-22 17:10:...|Stunning Looking ...|096647824451|           |     19.99|               |           |In Style Eyes Cat...|https://www.walma...|     19.99|d6dbc29d5782a88db...|           null|\n",
      "|    FALSE|         Upper Crust|Food|Baking|Bakin...|2019-03-22 17:46:...|| Size informatio...|890749001334|           |     39.96|               |           |Upper Crust Carib...|https://www.walma...|     39.96|9e51356d763e53dc6...|           null|\n",
      "|    FALSE|     Unique Bargains|Pets|Fish|Aquariu...|2019-03-22 17:35:...| Material: Plasti...|602451815532|           |    199.99|               |           |Fish Tank Ornamen...|https://www.walma...|       100|6fe8e4a8b0983d9c7...|           null|\n",
      "|    FALSE|              LaCasa|Beauty|Skin Care|...|2019-03-22 18:11:...|ELIMINATES BLACKH...|696405347446|           |     19.54|               |           |3-Pack Black Peel...|https://www.walma...|     19.54|60a82e436e09d9e72...|           null|\n",
      "|     TRUE|     CHOSEN SUPPLIES|Household Essenti...|2019-03-22 17:27:...| Volts: 12.80 Wat...|617456484898|           |     32.51|               |           |Replacement for L...|https://www.walma...|     32.51|7ca0a58d3e8538aca...|           null|\n",
      "|     TRUE|Caroline's Treasures|Office|Notebooks ...|2019-03-22 18:29:...|TAKE note! The pe...|638508998552|           |     10.59|               |           |American Foxhound...|https://www.walma...|     10.59|2c4a607ab9dae7ede...|           null|\n",
      "|     TRUE|            Ironwood|Home|Furniture|Of...|2019-03-22 18:34:...|Features: -Modula...|190213652360|           |       680|               |           |Ironwood Modular ...|https://www.walma...|    419.99|2c40b519adf279ec2...|           null|\n",
      "|     TRUE|           Classique|Clothing|Women|Wo...|2019-03-22 18:34:...|Classique 766 Pos...|736215421056|           |        56|               |           |Classique 766 Pos...|https://www.walma...|        56|7633b31b85e976bfc...|           null|\n",
      "|     TRUE|         Ames Walker|Clothing|Women|Wo...|2019-03-22 17:46:...|There's a reason ...|649906451211|           |     46.99|size-x-largereg|           |Ames Walker AW St...|https://www.walma...|     14.29|c8a6826ae0a1045cf...|           null|\n",
      "|     TRUE|         Ames Walker|Clothing|Women|Wo...|2019-03-22 17:46:...|There's a reason ...|649906451440|           |     46.99|  size-smallreg|           |Ames Walker AW St...|https://www.walma...|     14.29|11e02ac06b49a1114...|           null|\n",
      "|    FALSE|         Ames Walker|Clothing|Women|Wo...|2019-03-22 17:46:...|There's a reason ...|649906451259|           |     46.99|  size-largereg|           |Ames Walker AW St...|https://www.walma...|     14.29|6a218b9b211175eb5...|           null|\n",
      "|     TRUE|         Ames Walker|Clothing|Women|Wo...|2019-03-22 17:46:...|There's a reason ...|649906451396|           |     46.99|  size-largereg|           |Ames Walker AW St...|https://www.walma...|     14.29|54d34a7048c18592b...|           null|\n",
      "|     TRUE|         Ames Walker|Clothing|Women|Wo...|2019-03-22 17:46:...|There's a reason ...|649906451266|           |     46.99|  size-largereg|           |Ames Walker AW St...|https://www.walma...|     14.29|dd2fdbf0de61d5bcb...|           null|\n",
      "|     TRUE|         Ames Walker|Clothing|Women|Wo...|2019-03-22 17:46:...|There's a reason ...|649906451235|           |     46.99|size-x-largereg|           |Ames Walker AW St...|https://www.walma...|     14.29|5d0333f53bb04dd23...|           null|\n",
      "|     TRUE|         Ames Walker|Clothing|Women|Wo...|2019-03-22 17:46:...|There's a reason ...|649906451433|           |     46.99|  size-smallreg|           |Ames Walker AW St...|https://www.walma...|     14.29|a578eb34931d26e7e...|           null|\n",
      "|     TRUE|         Ames Walker|Clothing|Women|Wo...|2019-03-22 17:46:...|There's a reason ...|649906475552|           |     46.99|    size-xxlreg|           |Ames Walker AW St...|https://www.walma...|     14.29|6c5f5bd33aaa42366...|           null|\n",
      "|     TRUE|         Ames Walker|Clothing|Women|Wo...|2019-03-22 17:46:...|There's a reason ...|649906451402|           |     46.99| size-mediumreg|           |Ames Walker AW St...|https://www.walma...|     14.29|1fa1be63a258c4c87...|           null|\n",
      "+---------+--------------------+--------------------+--------------------+--------------------+------------+-----------+----------+---------------+-----------+--------------------+--------------------+----------+--------------------+---------------+\n",
      "only showing top 20 rows\n",
      "\n"
     ]
    }
   ],
   "source": [
    "walmart_df.show()"
   ]
  },
  {
   "cell_type": "code",
   "execution_count": 22,
   "id": "738f2092",
   "metadata": {},
   "outputs": [],
   "source": [
    " # making different product dataframe from walmart_df\n",
    "product_df= walmart_df.select([\"Brand\",\"Product Name\",\"Description\",\"List Price\",\"Sale Price\",\"Category\",\"Available\"])"
   ]
  },
  {
   "cell_type": "code",
   "execution_count": 23,
   "id": "e0d4e1b6",
   "metadata": {},
   "outputs": [],
   "source": [
    "import pyspark.sql.functions as F \n",
    "from pyspark.sql import Window\n",
    "import pyspark.sql.types as T"
   ]
  },
  {
   "cell_type": "code",
   "execution_count": 24,
   "id": "f05134a8",
   "metadata": {},
   "outputs": [
    {
     "name": "stdout",
     "output_type": "stream",
     "text": [
      "+--------------------+--------------------+--------------------+----------+----------+--------------------+---------+\n",
      "|               Brand|        Product Name|         Description|List Price|Sale Price|            Category|Available|\n",
      "+--------------------+--------------------+--------------------+----------+----------+--------------------+---------+\n",
      "|       In Style Eyes|In Style Eyes Cat...|Stunning Looking ...|     19.99|     19.99|Health|Home Healt...|     TRUE|\n",
      "|       In Style Eyes|In Style Eyes Cat...|Stunning Looking ...|     19.99|     19.99|Health|Home Healt...|     TRUE|\n",
      "|       In Style Eyes|In Style Eyes Cat...|Stunning Looking ...|     19.99|     19.99|Health|Home Healt...|     TRUE|\n",
      "|       In Style Eyes|In Style Eyes Cat...|Stunning Looking ...|     19.99|     19.99|Health|Home Healt...|     TRUE|\n",
      "|         Upper Crust|Upper Crust Carib...|| Size informatio...|     39.96|     39.96|Food|Baking|Bakin...|    FALSE|\n",
      "|     Unique Bargains|Fish Tank Ornamen...| Material: Plasti...|    199.99|       100|Pets|Fish|Aquariu...|    FALSE|\n",
      "|              LaCasa|3-Pack Black Peel...|ELIMINATES BLACKH...|     19.54|     19.54|Beauty|Skin Care|...|    FALSE|\n",
      "|     CHOSEN SUPPLIES|Replacement for L...| Volts: 12.80 Wat...|     32.51|     32.51|Household Essenti...|     TRUE|\n",
      "|Caroline's Treasures|American Foxhound...|TAKE note! The pe...|     10.59|     10.59|Office|Notebooks ...|     TRUE|\n",
      "|            Ironwood|Ironwood Modular ...|Features: -Modula...|       680|    419.99|Home|Furniture|Of...|     TRUE|\n",
      "|           Classique|Classique 766 Pos...|Classique 766 Pos...|        56|        56|Clothing|Women|Wo...|     TRUE|\n",
      "|         Ames Walker|Ames Walker AW St...|There's a reason ...|     46.99|     14.29|Clothing|Women|Wo...|     TRUE|\n",
      "|         Ames Walker|Ames Walker AW St...|There's a reason ...|     46.99|     14.29|Clothing|Women|Wo...|     TRUE|\n",
      "|         Ames Walker|Ames Walker AW St...|There's a reason ...|     46.99|     14.29|Clothing|Women|Wo...|    FALSE|\n",
      "|         Ames Walker|Ames Walker AW St...|There's a reason ...|     46.99|     14.29|Clothing|Women|Wo...|     TRUE|\n",
      "|         Ames Walker|Ames Walker AW St...|There's a reason ...|     46.99|     14.29|Clothing|Women|Wo...|     TRUE|\n",
      "|         Ames Walker|Ames Walker AW St...|There's a reason ...|     46.99|     14.29|Clothing|Women|Wo...|     TRUE|\n",
      "|         Ames Walker|Ames Walker AW St...|There's a reason ...|     46.99|     14.29|Clothing|Women|Wo...|     TRUE|\n",
      "|         Ames Walker|Ames Walker AW St...|There's a reason ...|     46.99|     14.29|Clothing|Women|Wo...|     TRUE|\n",
      "|         Ames Walker|Ames Walker AW St...|There's a reason ...|     46.99|     14.29|Clothing|Women|Wo...|     TRUE|\n",
      "+--------------------+--------------------+--------------------+----------+----------+--------------------+---------+\n",
      "only showing top 20 rows\n",
      "\n"
     ]
    }
   ],
   "source": [
    "# 1. Get the Brand along with products associated with it.\n",
    "\n",
    "product_df.na.drop(\"all\")\n",
    "product_df.show()\n",
    "# but"
   ]
  },
  {
   "cell_type": "code",
   "execution_count": 25,
   "id": "ede58c69",
   "metadata": {},
   "outputs": [],
   "source": [
    "#  making windows spec for partition by Brand \n",
    "windowSpec=Window.partitionBy(\"Brand\")"
   ]
  },
  {
   "cell_type": "code",
   "execution_count": 26,
   "id": "92cc96f7",
   "metadata": {},
   "outputs": [
    {
     "name": "stderr",
     "output_type": "stream",
     "text": [
      "[Stage 29:===========================================>              (3 + 1) / 4]\r"
     ]
    },
    {
     "name": "stdout",
     "output_type": "stream",
     "text": [
      "+-------------------+--------------------+--------------------+----------+----------+--------------------+---------+--------------------+\n",
      "|              Brand|        Product Name|         Description|List Price|Sale Price|            Category|Available|        Product List|\n",
      "+-------------------+--------------------+--------------------+----------+----------+--------------------+---------+--------------------+\n",
      "|               null|                null|                null|      null|      null|                null|     null|                  []|\n",
      "|          100% Pure|100% Pure Long La...|100% Pure Long La...|        30|        30|Beauty|Makeup|Eye...|    FALSE|[100% Pure Long L...|\n",
      "|          32 Square|32 Square DIL14GW...||Your little pale...|    143.03|    143.03|Toys|Games & Puzz...|    FALSE|[32 Square DIL14G...|\n",
      "|                 3M|1/4\" x 24\" Coated...|Sanding Belt, Wid...|    226.99|    226.99|Home Improvement|...|     TRUE|[1/4\" x 24\" Coate...|\n",
      "|             3dRose|3dRose Sarcasm no...|Sarcasm noun the ...|      2.49|      2.49|Party & Occasions...|    FALSE|[3dRose Sarcasm n...|\n",
      "|             3dRose|3dRose Pink Teddy...|Pink Teddy Bear- ...|     16.18|     16.18|Party & Occasions...|     TRUE|[3dRose Sarcasm n...|\n",
      "|             3dRose|3dRose Funny Cute...|Funny Cute Hyena ...|      2.49|      2.49|Party & Occasions...|    FALSE|[3dRose Sarcasm n...|\n",
      "|             3dRose|3dRose USA, Alask...|USA, Alaska. Orca...|     10.22|     10.22|Arts, Crafts & Se...|     TRUE|[3dRose Sarcasm n...|\n",
      "|             3dRose|3dRose Cool Trend...|Cool Trendy Fashi...|     16.18|     16.18|Arts, Crafts & Se...|     TRUE|[3dRose Sarcasm n...|\n",
      "|             3dRose|3dRose candy bear...|candy bears color...|         6|         6|Party & Occasions...|    FALSE|[3dRose Sarcasm n...|\n",
      "|             3dRose|3dRose German ubo...|German uboat subm...|         6|         6|Party & Occasions...|    FALSE|[3dRose Sarcasm n...|\n",
      "|             3dRose|3dRose Sailboat W...|Sailboat With Red...|      7.71|      7.71|Party & Occasions...|     TRUE|[3dRose Sarcasm n...|\n",
      "|             3dRose|3dRose Snowglobe ...|Snowglobe Winter ...|     13.92|     13.92|Party & Occasions...|    FALSE|[3dRose Sarcasm n...|\n",
      "|             3dRose|3dRose Ecuador, Q...|Ecuador, Quito, O...|      6.92|      6.92|Party & Occasions...|     TRUE|[3dRose Sarcasm n...|\n",
      "|             3dRose|3dRose Keep Calm ...|Keep Calm You Wil...|     13.92|     13.92|Party & Occasions...|     TRUE|[3dRose Sarcasm n...|\n",
      "|             3dRose|3dRose Eiffel Tow...|Eiffel Tower Mous...|      8.16|      8.16|Electronics|Compu...|     TRUE|[3dRose Sarcasm n...|\n",
      "|             3dRose|3dRose Rustic Lay...|Rustic Layered Wo...|     20.21|     20.21|Home Improvement|...|     TRUE|[3dRose Sarcasm n...|\n",
      "|             3dRose|3dRose This is Al...|This is Alaska Sc...|     22.56|     22.56|Home Improvement|...|     TRUE|[3dRose Sarcasm n...|\n",
      "|4Legs4Pets by Mahar|4Legs4Pets by Mah...|Features: -Frame ...|     51.87|     38.32|  Pets|Dogs|Dog Beds|    FALSE|[4Legs4Pets by Ma...|\n",
      "|4Legs4Pets by Mahar|4Legs4Pets by Mah...|Features: -Frame ...|     64.85|     47.94|  Pets|Dogs|Dog Beds|    FALSE|[4Legs4Pets by Ma...|\n",
      "+-------------------+--------------------+--------------------+----------+----------+--------------------+---------+--------------------+\n",
      "only showing top 20 rows\n",
      "\n"
     ]
    },
    {
     "name": "stderr",
     "output_type": "stream",
     "text": [
      "\r",
      "                                                                                \r"
     ]
    }
   ],
   "source": [
    "win_brand_df=product_df.withColumn(\"Product List\",F.collect_list(F.col(\"Product Name\")).over(windowSpec))\n",
    "win_brand_df.show()"
   ]
  },
  {
   "cell_type": "code",
   "execution_count": 27,
   "id": "47d036e1",
   "metadata": {},
   "outputs": [
    {
     "name": "stdout",
     "output_type": "stream",
     "text": [
      "+--------------------+--------------------+--------------------+----------+----------+--------------------+---------+\n",
      "|               Brand|        Product Name|         Description|List Price|Sale Price|            Category|Available|\n",
      "+--------------------+--------------------+--------------------+----------+----------+--------------------+---------+\n",
      "|       In Style Eyes|In Style Eyes Cat...|Stunning Looking ...|     19.99|     19.99|Health|Home Healt...|     TRUE|\n",
      "|       In Style Eyes|In Style Eyes Cat...|Stunning Looking ...|     19.99|     19.99|Health|Home Healt...|     TRUE|\n",
      "|       In Style Eyes|In Style Eyes Cat...|Stunning Looking ...|     19.99|     19.99|Health|Home Healt...|     TRUE|\n",
      "|       In Style Eyes|In Style Eyes Cat...|Stunning Looking ...|     19.99|     19.99|Health|Home Healt...|     TRUE|\n",
      "|         Upper Crust|Upper Crust Carib...|| Size informatio...|     39.96|     39.96|Food|Baking|Bakin...|    FALSE|\n",
      "|     Unique Bargains|Fish Tank Ornamen...| Material: Plasti...|    199.99|       100|Pets|Fish|Aquariu...|    FALSE|\n",
      "|              LaCasa|3-Pack Black Peel...|ELIMINATES BLACKH...|     19.54|     19.54|Beauty|Skin Care|...|    FALSE|\n",
      "|     CHOSEN SUPPLIES|Replacement for L...| Volts: 12.80 Wat...|     32.51|     32.51|Household Essenti...|     TRUE|\n",
      "|Caroline's Treasures|American Foxhound...|TAKE note! The pe...|     10.59|     10.59|Office|Notebooks ...|     TRUE|\n",
      "|            Ironwood|Ironwood Modular ...|Features: -Modula...|       680|    419.99|Home|Furniture|Of...|     TRUE|\n",
      "|           Classique|Classique 766 Pos...|Classique 766 Pos...|        56|        56|Clothing|Women|Wo...|     TRUE|\n",
      "|         Ames Walker|Ames Walker AW St...|There's a reason ...|     46.99|     14.29|Clothing|Women|Wo...|     TRUE|\n",
      "|         Ames Walker|Ames Walker AW St...|There's a reason ...|     46.99|     14.29|Clothing|Women|Wo...|     TRUE|\n",
      "|         Ames Walker|Ames Walker AW St...|There's a reason ...|     46.99|     14.29|Clothing|Women|Wo...|    FALSE|\n",
      "|         Ames Walker|Ames Walker AW St...|There's a reason ...|     46.99|     14.29|Clothing|Women|Wo...|     TRUE|\n",
      "|         Ames Walker|Ames Walker AW St...|There's a reason ...|     46.99|     14.29|Clothing|Women|Wo...|     TRUE|\n",
      "|         Ames Walker|Ames Walker AW St...|There's a reason ...|     46.99|     14.29|Clothing|Women|Wo...|     TRUE|\n",
      "|         Ames Walker|Ames Walker AW St...|There's a reason ...|     46.99|     14.29|Clothing|Women|Wo...|     TRUE|\n",
      "|         Ames Walker|Ames Walker AW St...|There's a reason ...|     46.99|     14.29|Clothing|Women|Wo...|     TRUE|\n",
      "|         Ames Walker|Ames Walker AW St...|There's a reason ...|     46.99|     14.29|Clothing|Women|Wo...|     TRUE|\n",
      "+--------------------+--------------------+--------------------+----------+----------+--------------------+---------+\n",
      "only showing top 20 rows\n",
      "\n"
     ]
    }
   ],
   "source": [
    "# 2. List all the product names whose list price is greater than sales price\n",
    "\n",
    "product_df.na.drop(\"all\")\n",
    "product_df.show()\n",
    "# but\n"
   ]
  },
  {
   "cell_type": "code",
   "execution_count": 28,
   "id": "e957856a",
   "metadata": {},
   "outputs": [
    {
     "name": "stderr",
     "output_type": "stream",
     "text": [
      "\r",
      "[Stage 33:=============================>                            (2 + 2) / 4]\r"
     ]
    },
    {
     "name": "stdout",
     "output_type": "stream",
     "text": [
      "+-------------------+--------------------+--------------------+----------+----------+------------------+---------+--------------------+\n",
      "|              Brand|        Product Name|         Description|List Price|Sale Price|          Category|Available|        Product List|\n",
      "+-------------------+--------------------+--------------------+----------+----------+------------------+---------+--------------------+\n",
      "|4Legs4Pets by Mahar|4Legs4Pets by Mah...|Features: -Frame ...|     51.87|     38.32|Pets|Dogs|Dog Beds|    FALSE|[4Legs4Pets by Ma...|\n",
      "|4Legs4Pets by Mahar|4Legs4Pets by Mah...|Features: -Frame ...|     64.85|     47.94|Pets|Dogs|Dog Beds|    FALSE|[4Legs4Pets by Ma...|\n",
      "|4Legs4Pets by Mahar|4Legs4Pets by Mah...|Features: -Frame ...|     46.66|     34.46|Pets|Dogs|Dog Beds|    FALSE|[4Legs4Pets by Ma...|\n",
      "|4Legs4Pets by Mahar|4Legs4Pets by Mah...|Features: -Frame ...|     43.73|     32.29|Pets|Dogs|Dog Beds|    FALSE|[4Legs4Pets by Ma...|\n",
      "|4Legs4Pets by Mahar|4Legs4Pets by Mah...|Features: -Frame ...|     59.38|      47.5|Pets|Dogs|Dog Beds|    FALSE|[4Legs4Pets by Ma...|\n",
      "|4Legs4Pets by Mahar|4Legs4Pets by Mah...|Features: -Frame ...|     68.43|     48.86|Pets|Dogs|Dog Beds|    FALSE|[4Legs4Pets by Ma...|\n",
      "|4Legs4Pets by Mahar|4Legs4Pets by Mah...|Features: -Frame ...|     68.43|     50.59|Pets|Dogs|Dog Beds|    FALSE|[4Legs4Pets by Ma...|\n",
      "|4Legs4Pets by Mahar|4Legs4Pets by Mah...|Features: -Frame ...|     64.85|     47.94|Pets|Dogs|Dog Beds|    FALSE|[4Legs4Pets by Ma...|\n",
      "|4Legs4Pets by Mahar|4Legs4Pets by Mah...|Features: -Frame ...|     64.65|     46.22|Pets|Dogs|Dog Beds|    FALSE|[4Legs4Pets by Ma...|\n",
      "|4Legs4Pets by Mahar|4Legs4Pets by Mah...|Features: -Frame ...|     46.63|     36.17|Pets|Dogs|Dog Beds|    FALSE|[4Legs4Pets by Ma...|\n",
      "|4Legs4Pets by Mahar|4Legs4Pets by Mah...|Features: -Frame ...|     64.85|     47.94|Pets|Dogs|Dog Beds|    FALSE|[4Legs4Pets by Ma...|\n",
      "|4Legs4Pets by Mahar|4Legs4Pets by Mah...|Features: -Frame ...|     45.55|     31.09|Pets|Dogs|Dog Beds|    FALSE|[4Legs4Pets by Ma...|\n",
      "|4Legs4Pets by Mahar|4Legs4Pets by Mah...|Features: -Frame ...|     46.63|     36.17|Pets|Dogs|Dog Beds|    FALSE|[4Legs4Pets by Ma...|\n",
      "|4Legs4Pets by Mahar|4Legs4Pets by Mah...|Features: -Frame ...|     46.66|     34.46|Pets|Dogs|Dog Beds|    FALSE|[4Legs4Pets by Ma...|\n",
      "|4Legs4Pets by Mahar|4Legs4Pets by Mah...|Features: -Frame ...|     45.56|     33.65|Pets|Dogs|Dog Beds|    FALSE|[4Legs4Pets by Ma...|\n",
      "|4Legs4Pets by Mahar|4Legs4Pets by Mah...|Features: -Frame ...|     46.63|     36.17|Pets|Dogs|Dog Beds|    FALSE|[4Legs4Pets by Ma...|\n",
      "|4Legs4Pets by Mahar|4Legs4Pets by Mah...|Features: -Frame ...|     46.63|     36.17|Pets|Dogs|Dog Beds|    FALSE|[4Legs4Pets by Ma...|\n",
      "|4Legs4Pets by Mahar|4Legs4Pets by Mah...|Features: -Frame ...|     51.87|     38.32|Pets|Dogs|Dog Beds|    FALSE|[4Legs4Pets by Ma...|\n",
      "|4Legs4Pets by Mahar|4Legs4Pets by Mah...|Features: -Frame ...|     46.66|     34.46|Pets|Dogs|Dog Beds|    FALSE|[4Legs4Pets by Ma...|\n",
      "|4Legs4Pets by Mahar|4Legs4Pets by Mah...|Features: -Frame ...|     68.43|     50.59|Pets|Dogs|Dog Beds|    FALSE|[4Legs4Pets by Ma...|\n",
      "+-------------------+--------------------+--------------------+----------+----------+------------------+---------+--------------------+\n",
      "only showing top 20 rows\n",
      "\n"
     ]
    },
    {
     "name": "stderr",
     "output_type": "stream",
     "text": [
      "\r",
      "                                                                                \r"
     ]
    }
   ],
   "source": [
    "win_price_df=product_df.withColumn(\"Product List\",F.collect_list(F.col(\"Product Name\")).over(windowSpec))\n",
    "win_price_df.filter(F.col(\"List Price\") > F.col(\"Sale Price\")).show()"
   ]
  },
  {
   "cell_type": "code",
   "execution_count": 29,
   "id": "257ddf77",
   "metadata": {},
   "outputs": [
    {
     "name": "stdout",
     "output_type": "stream",
     "text": [
      "+-------------------+--------------------+--------------------+----------+----------+------------------+---------+--------------+\n",
      "|              Brand|        Product Name|         Description|List Price|Sale Price|          Category|Available|no. of Product|\n",
      "+-------------------+--------------------+--------------------+----------+----------+------------------+---------+--------------+\n",
      "|4Legs4Pets by Mahar|4Legs4Pets by Mah...|Features: -Frame ...|     51.87|     38.32|Pets|Dogs|Dog Beds|    FALSE|            85|\n",
      "|4Legs4Pets by Mahar|4Legs4Pets by Mah...|Features: -Frame ...|     64.85|     47.94|Pets|Dogs|Dog Beds|    FALSE|            85|\n",
      "|4Legs4Pets by Mahar|4Legs4Pets by Mah...|Features: -Frame ...|     46.66|     34.46|Pets|Dogs|Dog Beds|    FALSE|            85|\n",
      "|4Legs4Pets by Mahar|4Legs4Pets by Mah...|Features: -Frame ...|     43.73|     32.29|Pets|Dogs|Dog Beds|    FALSE|            85|\n",
      "|4Legs4Pets by Mahar|4Legs4Pets by Mah...|Features: -Frame ...|     59.38|      47.5|Pets|Dogs|Dog Beds|    FALSE|            85|\n",
      "|4Legs4Pets by Mahar|4Legs4Pets by Mah...|Features: -Frame ...|     68.43|     48.86|Pets|Dogs|Dog Beds|    FALSE|            85|\n",
      "|4Legs4Pets by Mahar|4Legs4Pets by Mah...|Features: -Frame ...|     68.43|     50.59|Pets|Dogs|Dog Beds|    FALSE|            85|\n",
      "|4Legs4Pets by Mahar|4Legs4Pets by Mah...|Features: -Frame ...|     64.85|     47.94|Pets|Dogs|Dog Beds|    FALSE|            85|\n",
      "|4Legs4Pets by Mahar|4Legs4Pets by Mah...|Features: -Frame ...|     64.65|     46.22|Pets|Dogs|Dog Beds|    FALSE|            85|\n",
      "|4Legs4Pets by Mahar|4Legs4Pets by Mah...|Features: -Frame ...|     46.63|     36.17|Pets|Dogs|Dog Beds|    FALSE|            85|\n",
      "|4Legs4Pets by Mahar|4Legs4Pets by Mah...|Features: -Frame ...|     64.85|     47.94|Pets|Dogs|Dog Beds|    FALSE|            85|\n",
      "|4Legs4Pets by Mahar|4Legs4Pets by Mah...|Features: -Frame ...|     45.55|     31.09|Pets|Dogs|Dog Beds|    FALSE|            85|\n",
      "|4Legs4Pets by Mahar|4Legs4Pets by Mah...|Features: -Frame ...|     46.63|     36.17|Pets|Dogs|Dog Beds|    FALSE|            85|\n",
      "|4Legs4Pets by Mahar|4Legs4Pets by Mah...|Features: -Frame ...|     46.66|     34.46|Pets|Dogs|Dog Beds|    FALSE|            85|\n",
      "|4Legs4Pets by Mahar|4Legs4Pets by Mah...|Features: -Frame ...|     45.56|     33.65|Pets|Dogs|Dog Beds|    FALSE|            85|\n",
      "|4Legs4Pets by Mahar|4Legs4Pets by Mah...|Features: -Frame ...|     46.63|     36.17|Pets|Dogs|Dog Beds|    FALSE|            85|\n",
      "|4Legs4Pets by Mahar|4Legs4Pets by Mah...|Features: -Frame ...|     46.63|     36.17|Pets|Dogs|Dog Beds|    FALSE|            85|\n",
      "|4Legs4Pets by Mahar|4Legs4Pets by Mah...|Features: -Frame ...|     51.87|     38.32|Pets|Dogs|Dog Beds|    FALSE|            85|\n",
      "|4Legs4Pets by Mahar|4Legs4Pets by Mah...|Features: -Frame ...|     46.66|     34.46|Pets|Dogs|Dog Beds|    FALSE|            85|\n",
      "|4Legs4Pets by Mahar|4Legs4Pets by Mah...|Features: -Frame ...|     68.43|     50.59|Pets|Dogs|Dog Beds|    FALSE|            85|\n",
      "+-------------------+--------------------+--------------------+----------+----------+------------------+---------+--------------+\n",
      "only showing top 20 rows\n",
      "\n"
     ]
    }
   ],
   "source": [
    "# 3. Count the number of product names whose list price is greater than sales price\n",
    "win_count_df=product_df.withColumn(\"no. of Product\",F.count(F.col(\"Product Name\")).over(windowSpec))\n",
    "win_count_df.filter(F.col(\"List Price\") > F.col(\"Sale Price\")).show()"
   ]
  },
  {
   "cell_type": "code",
   "execution_count": 17,
   "id": "12c73753",
   "metadata": {},
   "outputs": [
    {
     "name": "stdout",
     "output_type": "stream",
     "text": [
      "+-----+------------+----------+----------+--------+---------+------------+\n",
      "|Brand|Product Name|List Price|Sale Price|Category|Available|Product List|\n",
      "+-----+------------+----------+----------+--------+---------+------------+\n",
      "+-----+------------+----------+----------+--------+---------+------------+\n",
      "\n"
     ]
    }
   ],
   "source": [
    "# 4. List all the products belong to a “women” category.\n",
    "#  making windows spec for partition by Category \n",
    "windowSpec=Window.partitionBy(\"Category\")\n",
    "win_women_df=product_df.withColumn(\"Product List\",F.collect_list(F.col(\"Product Name\")).over(windowSpec))\\\n",
    "    .filter(F.col(\"Category\")==\"Women\")\n",
    "win_women_df.show()"
   ]
  },
  {
   "cell_type": "code",
   "execution_count": 33,
   "id": "ad6bff67",
   "metadata": {},
   "outputs": [
    {
     "name": "stderr",
     "output_type": "stream",
     "text": [
      "\r",
      "[Stage 48:>                                                         (0 + 4) / 4]\r"
     ]
    },
    {
     "name": "stdout",
     "output_type": "stream",
     "text": [
      "+-------------------+--------------------+--------------------+----------+----------+--------------------+---------+--------------------+\n",
      "|              Brand|        Product Name|         Description|List Price|Sale Price|            Category|Available|        Product List|\n",
      "+-------------------+--------------------+--------------------+----------+----------+--------------------+---------+--------------------+\n",
      "|                 3M|1/4\" x 24\" Coated...|Sanding Belt, Wid...|    226.99|    226.99|Home Improvement|...|     TRUE|[1/4\" x 24\" Coate...|\n",
      "|             3dRose|3dRose Pink Teddy...|Pink Teddy Bear- ...|     16.18|     16.18|Party & Occasions...|     TRUE|[3dRose Sarcasm n...|\n",
      "|             3dRose|3dRose USA, Alask...|USA, Alaska. Orca...|     10.22|     10.22|Arts, Crafts & Se...|     TRUE|[3dRose Sarcasm n...|\n",
      "|             3dRose|3dRose Cool Trend...|Cool Trendy Fashi...|     16.18|     16.18|Arts, Crafts & Se...|     TRUE|[3dRose Sarcasm n...|\n",
      "|             3dRose|3dRose Sailboat W...|Sailboat With Red...|      7.71|      7.71|Party & Occasions...|     TRUE|[3dRose Sarcasm n...|\n",
      "|             3dRose|3dRose Ecuador, Q...|Ecuador, Quito, O...|      6.92|      6.92|Party & Occasions...|     TRUE|[3dRose Sarcasm n...|\n",
      "|             3dRose|3dRose Keep Calm ...|Keep Calm You Wil...|     13.92|     13.92|Party & Occasions...|     TRUE|[3dRose Sarcasm n...|\n",
      "|             3dRose|3dRose Eiffel Tow...|Eiffel Tower Mous...|      8.16|      8.16|Electronics|Compu...|     TRUE|[3dRose Sarcasm n...|\n",
      "|             3dRose|3dRose Rustic Lay...|Rustic Layered Wo...|     20.21|     20.21|Home Improvement|...|     TRUE|[3dRose Sarcasm n...|\n",
      "|             3dRose|3dRose This is Al...|This is Alaska Sc...|     22.56|     22.56|Home Improvement|...|     TRUE|[3dRose Sarcasm n...|\n",
      "|4Legs4Pets by Mahar|4Legs4Pets by Mah...|Features: -Frame ...|     38.42|     38.42|  Pets|Dogs|Dog Beds|     TRUE|[4Legs4Pets by Ma...|\n",
      "|4Legs4Pets by Mahar|4Legs4Pets by Mah...|Features: -Frame ...|     38.32|     38.32|  Pets|Dogs|Dog Beds|     TRUE|[4Legs4Pets by Ma...|\n",
      "|4Legs4Pets by Mahar|4Legs4Pets by Mah...|Features: -Frame ...|     38.42|     38.42|  Pets|Dogs|Dog Beds|     TRUE|[4Legs4Pets by Ma...|\n",
      "|4Legs4Pets by Mahar|4Legs4Pets by Mah...|Features: -Frame ...|     45.58|     45.58|  Pets|Dogs|Dog Beds|     TRUE|[4Legs4Pets by Ma...|\n",
      "|4Legs4Pets by Mahar|4Legs4Pets by Mah...|Features: -Frame ...|     38.32|     38.32|  Pets|Dogs|Dog Beds|     TRUE|[4Legs4Pets by Ma...|\n",
      "|4Legs4Pets by Mahar|4Legs4Pets by Mah...|Features: -Frame ...|     45.58|     45.58|  Pets|Dogs|Dog Beds|     TRUE|[4Legs4Pets by Ma...|\n",
      "|4Legs4Pets by Mahar|4Legs4Pets by Mah...|Features: -Frame ...|     45.58|     45.58|  Pets|Dogs|Dog Beds|     TRUE|[4Legs4Pets by Ma...|\n",
      "|4Legs4Pets by Mahar|4Legs4Pets by Mah...|Features: -Frame ...|     38.42|     38.42|  Pets|Dogs|Dog Beds|     TRUE|[4Legs4Pets by Ma...|\n",
      "|4Legs4Pets by Mahar|4Legs4Pets by Mah...|Features: -Frame ...|     45.58|     45.58|  Pets|Dogs|Dog Beds|     TRUE|[4Legs4Pets by Ma...|\n",
      "|       624-136 BK16|Mirage 624-136 BK...|Mirage 624-136 BK...|     15.66|     15.66|Pets|Dogs|Dog Col...|     TRUE|[Mirage 624-136 B...|\n",
      "+-------------------+--------------------+--------------------+----------+----------+--------------------+---------+--------------------+\n",
      "only showing top 20 rows\n",
      "\n"
     ]
    },
    {
     "name": "stderr",
     "output_type": "stream",
     "text": [
      "\r",
      "                                                                                \r"
     ]
    }
   ],
   "source": [
    "# 5. List the products which are available.\n",
    "#  making windows spec for partition by Brand \n",
    "windowSpec=Window.partitionBy(\"Brand\")\n",
    "win_available_df=product_df.withColumn(\"Product List\",F.collect_list(F.col(\"Product Name\")).over(windowSpec))\\\n",
    "    .filter(F.col(\"Available\")==\"TRUE\")\n",
    "win_available_df.show()"
   ]
  },
  {
   "cell_type": "code",
   "execution_count": 35,
   "id": "8d8da799",
   "metadata": {},
   "outputs": [
    {
     "name": "stdout",
     "output_type": "stream",
     "text": [
      "+-------------------+--------------------+--------------------+----------+----------+--------------------+---------+--------------------+\n",
      "|              Brand|        Product Name|         Description|List Price|Sale Price|            Category|Available|        Product List|\n",
      "+-------------------+--------------------+--------------------+----------+----------+--------------------+---------+--------------------+\n",
      "|          100% Pure|100% Pure Long La...|100% Pure Long La...|        30|        30|Beauty|Makeup|Eye...|    FALSE|[100% Pure Long L...|\n",
      "|          32 Square|32 Square DIL14GW...||Your little pale...|    143.03|    143.03|Toys|Games & Puzz...|    FALSE|[32 Square DIL14G...|\n",
      "|             3dRose|3dRose Sarcasm no...|Sarcasm noun the ...|      2.49|      2.49|Party & Occasions...|    FALSE|[3dRose Sarcasm n...|\n",
      "|             3dRose|3dRose Funny Cute...|Funny Cute Hyena ...|      2.49|      2.49|Party & Occasions...|    FALSE|[3dRose Sarcasm n...|\n",
      "|             3dRose|3dRose candy bear...|candy bears color...|         6|         6|Party & Occasions...|    FALSE|[3dRose Sarcasm n...|\n",
      "|             3dRose|3dRose German ubo...|German uboat subm...|         6|         6|Party & Occasions...|    FALSE|[3dRose Sarcasm n...|\n",
      "|             3dRose|3dRose Snowglobe ...|Snowglobe Winter ...|     13.92|     13.92|Party & Occasions...|    FALSE|[3dRose Sarcasm n...|\n",
      "|4Legs4Pets by Mahar|4Legs4Pets by Mah...|Features: -Frame ...|     51.87|     38.32|  Pets|Dogs|Dog Beds|    FALSE|[4Legs4Pets by Ma...|\n",
      "|4Legs4Pets by Mahar|4Legs4Pets by Mah...|Features: -Frame ...|     64.85|     47.94|  Pets|Dogs|Dog Beds|    FALSE|[4Legs4Pets by Ma...|\n",
      "|4Legs4Pets by Mahar|4Legs4Pets by Mah...|Features: -Frame ...|     49.18|     49.18|  Pets|Dogs|Dog Beds|    FALSE|[4Legs4Pets by Ma...|\n",
      "|4Legs4Pets by Mahar|4Legs4Pets by Mah...|Features: -Frame ...|      59.8|      59.8|  Pets|Dogs|Dog Beds|    FALSE|[4Legs4Pets by Ma...|\n",
      "|4Legs4Pets by Mahar|4Legs4Pets by Mah...|Features: -Frame ...|     46.66|     34.46|  Pets|Dogs|Dog Beds|    FALSE|[4Legs4Pets by Ma...|\n",
      "|4Legs4Pets by Mahar|4Legs4Pets by Mah...|Features: -Frame ...|     43.73|     32.29|  Pets|Dogs|Dog Beds|    FALSE|[4Legs4Pets by Ma...|\n",
      "|4Legs4Pets by Mahar|4Legs4Pets by Mah...|Features: -Frame ...|     59.38|      47.5|  Pets|Dogs|Dog Beds|    FALSE|[4Legs4Pets by Ma...|\n",
      "|4Legs4Pets by Mahar|4Legs4Pets by Mah...|Features: -Frame ...|     68.43|     48.86|  Pets|Dogs|Dog Beds|    FALSE|[4Legs4Pets by Ma...|\n",
      "|4Legs4Pets by Mahar|4Legs4Pets by Mah...|Features: -Frame ...|     68.43|     50.59|  Pets|Dogs|Dog Beds|    FALSE|[4Legs4Pets by Ma...|\n",
      "|4Legs4Pets by Mahar|4Legs4Pets by Mah...|Features: -Frame ...|      59.8|      59.8|  Pets|Dogs|Dog Beds|    FALSE|[4Legs4Pets by Ma...|\n",
      "|4Legs4Pets by Mahar|4Legs4Pets by Mah...|Features: -Frame ...|     34.46|     34.46|  Pets|Dogs|Dog Beds|    FALSE|[4Legs4Pets by Ma...|\n",
      "|4Legs4Pets by Mahar|4Legs4Pets by Mah...|Features: -Frame ...|     64.85|     47.94|  Pets|Dogs|Dog Beds|    FALSE|[4Legs4Pets by Ma...|\n",
      "|4Legs4Pets by Mahar|4Legs4Pets by Mah...|Features: -Frame ...|     45.83|     45.83|  Pets|Dogs|Dog Beds|    FALSE|[4Legs4Pets by Ma...|\n",
      "+-------------------+--------------------+--------------------+----------+----------+--------------------+---------+--------------------+\n",
      "only showing top 20 rows\n",
      "\n"
     ]
    }
   ],
   "source": [
    "# 6. Count the number of products which are not available.\n",
    "win_navailable_df=product_df.withColumn(\"Product List\",F.collect_list(F.col(\"Product Name\")).over(windowSpec))\\\n",
    "    .filter(F.col(\"Available\")==\"FALSE\")\n",
    "win_navailable_df.show()"
   ]
  },
  {
   "cell_type": "code",
   "execution_count": null,
   "id": "95f3eb57",
   "metadata": {},
   "outputs": [],
   "source": [
    "# 7. List the products that are made up of Nylon."
   ]
  },
  {
   "cell_type": "code",
   "execution_count": null,
   "id": "22ff663c",
   "metadata": {},
   "outputs": [],
   "source": []
  }
 ],
 "metadata": {
  "kernelspec": {
   "display_name": "Python 3 (ipykernel)",
   "language": "python",
   "name": "python3"
  },
  "language_info": {
   "codemirror_mode": {
    "name": "ipython",
    "version": 3
   },
   "file_extension": ".py",
   "mimetype": "text/x-python",
   "name": "python",
   "nbconvert_exporter": "python",
   "pygments_lexer": "ipython3",
   "version": "3.10.6"
  }
 },
 "nbformat": 4,
 "nbformat_minor": 5
}
