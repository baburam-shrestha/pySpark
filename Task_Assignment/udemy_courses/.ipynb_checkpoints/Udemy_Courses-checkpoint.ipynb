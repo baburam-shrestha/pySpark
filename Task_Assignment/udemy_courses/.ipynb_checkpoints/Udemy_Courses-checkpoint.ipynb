{
 "cells": [
  {
   "cell_type": "code",
   "execution_count": 1,
   "id": "274b0736",
   "metadata": {},
   "outputs": [],
   "source": [
    "# importing pyspark\n",
    "import pyspark\n"
   ]
  },
  {
   "cell_type": "code",
   "execution_count": 2,
   "id": "76d0f56d",
   "metadata": {},
   "outputs": [],
   "source": [
    "# importing pandas and numpy\n",
    "import pandas as pd\n",
    "import numpy as np\n"
   ]
  },
  {
   "cell_type": "code",
   "execution_count": 3,
   "id": "ee1d8be9",
   "metadata": {},
   "outputs": [],
   "source": [
    "# importing the spark session\n",
    "from pyspark.sql import SparkSession\n"
   ]
  },
  {
   "cell_type": "code",
   "execution_count": 4,
   "id": "512e24e1",
   "metadata": {},
   "outputs": [
    {
     "name": "stdout",
     "output_type": "stream",
     "text": [
      "22/10/20 12:22:35 WARN Utils: Your hostname, HP-G62 resolves to a loopback address: 127.0.1.1; using 192.168.18.113 instead (on interface enp3s0)\n",
      "22/10/20 12:22:35 WARN Utils: Set SPARK_LOCAL_IP if you need to bind to another address\n"
     ]
    },
    {
     "name": "stderr",
     "output_type": "stream",
     "text": [
      "Setting default log level to \"WARN\".\n",
      "To adjust logging level use sc.setLogLevel(newLevel). For SparkR, use setLogLevel(newLevel).\n"
     ]
    },
    {
     "name": "stdout",
     "output_type": "stream",
     "text": [
      "22/10/20 12:22:36 WARN NativeCodeLoader: Unable to load native-hadoop library for your platform... using builtin-java classes where applicable\n",
      "22/10/20 12:22:38 WARN Utils: Service 'SparkUI' could not bind on port 4040. Attempting port 4041.\n"
     ]
    }
   ],
   "source": [
    "# creating the seasion\n",
    "spark = SparkSession.builder.appName(\"Udemy Courses\").getOrCreate()"
   ]
  },
  {
   "cell_type": "code",
   "execution_count": 5,
   "id": "61b0bdaf",
   "metadata": {},
   "outputs": [],
   "source": [
    "import pyspark.sql.functions as F \n",
    "from pyspark.sql import Window\n",
    "import pyspark.sql.types as T"
   ]
  },
  {
   "cell_type": "code",
   "execution_count": null,
   "id": "c9f718ec",
   "metadata": {},
   "outputs": [],
   "source": []
  },
  {
   "cell_type": "code",
   "execution_count": null,
   "id": "dc864493",
   "metadata": {},
   "outputs": [],
   "source": []
  },
  {
   "cell_type": "code",
   "execution_count": null,
   "id": "ff9ade64",
   "metadata": {},
   "outputs": [],
   "source": []
  },
  {
   "cell_type": "code",
   "execution_count": 6,
   "id": "9fa63824",
   "metadata": {},
   "outputs": [
    {
     "name": "stderr",
     "output_type": "stream",
     "text": [
      "                                                                                \r"
     ]
    }
   ],
   "source": [
    "# Read JSON file into dataframe\n",
    "udemy_course_df = spark.read.json(\"udemy_courses.json\")"
   ]
  },
  {
   "cell_type": "code",
   "execution_count": 7,
   "id": "af91255c",
   "metadata": {},
   "outputs": [
    {
     "name": "stdout",
     "output_type": "stream",
     "text": [
      "root\n",
      " |-- _corrupt_record: string (nullable = true)\n",
      " |-- content_duration: string (nullable = true)\n",
      " |-- course_id: string (nullable = true)\n",
      " |-- course_title: string (nullable = true)\n",
      " |-- is_paid: string (nullable = true)\n",
      " |-- level: string (nullable = true)\n",
      " |-- num_lectures: string (nullable = true)\n",
      " |-- num_reviews: string (nullable = true)\n",
      " |-- num_subscribers: string (nullable = true)\n",
      " |-- price: string (nullable = true)\n",
      " |-- published_timestamp: string (nullable = true)\n",
      " |-- subject: string (nullable = true)\n",
      " |-- url: string (nullable = true)\n",
      "\n"
     ]
    }
   ],
   "source": [
    "#  printing schema of dataframe\n",
    "udemy_course_df.printSchema()"
   ]
  },
  {
   "cell_type": "code",
   "execution_count": 8,
   "id": "965f0cb1",
   "metadata": {},
   "outputs": [
    {
     "name": "stdout",
     "output_type": "stream",
     "text": [
      "+---------------+------------------+---------+--------------------+-------+------------------+------------+-----------+---------------+-----+--------------------+----------------+--------------------+\n",
      "|_corrupt_record|  content_duration|course_id|        course_title|is_paid|             level|num_lectures|num_reviews|num_subscribers|price| published_timestamp|         subject|                 url|\n",
      "+---------------+------------------+---------+--------------------+-------+------------------+------------+-----------+---------------+-----+--------------------+----------------+--------------------+\n",
      "|           null|               1.5|  1070968|Ultimate Investme...|   True|        All Levels|          51|         23|           2147|  200|2017-01-18T20:58:58Z|Business Finance|https://www.udemy...|\n",
      "|           null|              39.0|  1113822|Complete GST Cour...|   True|        All Levels|         274|        923|           2792|   75|2017-03-09T16:34:20Z|Business Finance|https://www.udemy...|\n",
      "|           null|               2.5|  1006314|Financial Modelin...|   True|Intermediate Level|          51|         74|           2174|   45|2016-12-19T19:26:30Z|Business Finance|https://www.udemy...|\n",
      "|           null|               3.0|  1210588|Beginner to Pro -...|   True|        All Levels|          36|         11|           2451|   95|2017-05-30T20:07:24Z|Business Finance|https://www.udemy...|\n",
      "|           null|               2.0|  1011058|How To Maximize Y...|   True|Intermediate Level|          26|         45|           1276|  200|2016-12-13T14:57:18Z|Business Finance|https://www.udemy...|\n",
      "|           null|               3.0|   192870|Trading Penny Sto...|   True|        All Levels|          25|        138|           9221|  150|2014-05-02T15:13:30Z|Business Finance|https://www.udemy...|\n",
      "|           null|               1.0|   739964|Investing And Tra...|   True|    Beginner Level|          26|        178|           1540|   65|2016-02-21T18:23:12Z|Business Finance|https://www.udemy...|\n",
      "|           null|               2.5|   403100|Trading Stock Cha...|   True|        All Levels|          23|        148|           2917|   95|2015-01-30T22:13:03Z|Business Finance|https://www.udemy...|\n",
      "|           null|               2.5|   476268|Options Trading 3...|   True|      Expert Level|          38|         34|           5172|  195|2015-05-28T00:14:03Z|Business Finance|https://www.udemy...|\n",
      "|           null|               1.0|  1167710|The Only Investme...|   True|        All Levels|          15|         14|            827|  200|2017-04-18T18:13:32Z|Business Finance|https://www.udemy...|\n",
      "|           null|               5.0|   592338|Forex Trading Sec...|   True|        All Levels|          76|         93|           4284|  200|2015-09-11T16:47:02Z|Business Finance|https://www.udemy...|\n",
      "|           null|               1.0|   975046|Trading Options W...|   True|        All Levels|          17|         42|           1380|  200|2016-10-18T22:52:31Z|Business Finance|https://www.udemy...|\n",
      "|           null|               1.5|   742602|Financial Managem...|   True|        All Levels|          19|         21|           3607|   30|2016-02-03T18:04:01Z|Business Finance|https://www.udemy...|\n",
      "|           null|               2.0|   794151|Forex Trading Cou...|   True|        All Levels|          16|         52|           4061|  195|2016-03-16T15:40:19Z|Business Finance|https://www.udemy...|\n",
      "|           null|               7.0|  1196544|Python Algo Tradi...|   True|        All Levels|          42|         19|            294|  200|2017-04-28T16:41:44Z|Business Finance|https://www.udemy...|\n",
      "|           null|               1.5|   504036|Short Selling: Le...|   True|Intermediate Level|          19|        106|           2276|   75|2015-06-22T21:18:35Z|Business Finance|https://www.udemy...|\n",
      "|           null|               1.5|   719698|Basic Technical A...|   True|    Beginner Level|          16|         79|           4919|   20|2016-01-08T17:21:26Z|Business Finance|https://www.udemy...|\n",
      "|           null|               4.0|   564966|The Complete Char...|   True|        All Levels|          52|        115|           2666|  200|2015-08-10T21:07:35Z|Business Finance|https://www.udemy...|\n",
      "|           null|               1.5|   606928|7 Deadly Mistakes...|   True|        All Levels|          23|         24|           5354|   50|2015-09-21T18:10:34Z|Business Finance|https://www.udemy...|\n",
      "|           null|0.5833333333333334|    58977|Financial Stateme...|   True|    Beginner Level|          12|        249|           8095|   95|2013-06-09T00:21:26Z|Business Finance|https://www.udemy...|\n",
      "+---------------+------------------+---------+--------------------+-------+------------------+------------+-----------+---------------+-----+--------------------+----------------+--------------------+\n",
      "only showing top 20 rows\n",
      "\n"
     ]
    }
   ],
   "source": [
    "# showing the dataframe\n",
    "udemy_course_df.show()"
   ]
  },
  {
   "cell_type": "code",
   "execution_count": 9,
   "id": "3d3b5a33",
   "metadata": {},
   "outputs": [
    {
     "name": "stdout",
     "output_type": "stream",
     "text": [
      "+---------+--------------------+----------------+------------------+------------------+------------+---------------+-----------+-------+-----+\n",
      "|course_id|        course_title|         subject|             level|  content_duration|num_lectures|num_subscribers|num_reviews|is_paid|price|\n",
      "+---------+--------------------+----------------+------------------+------------------+------------+---------------+-----------+-------+-----+\n",
      "|  1070968|Ultimate Investme...|Business Finance|        All Levels|               1.5|          51|           2147|         23|   True|  200|\n",
      "|  1113822|Complete GST Cour...|Business Finance|        All Levels|              39.0|         274|           2792|        923|   True|   75|\n",
      "|  1006314|Financial Modelin...|Business Finance|Intermediate Level|               2.5|          51|           2174|         74|   True|   45|\n",
      "|  1210588|Beginner to Pro -...|Business Finance|        All Levels|               3.0|          36|           2451|         11|   True|   95|\n",
      "|  1011058|How To Maximize Y...|Business Finance|Intermediate Level|               2.0|          26|           1276|         45|   True|  200|\n",
      "|   192870|Trading Penny Sto...|Business Finance|        All Levels|               3.0|          25|           9221|        138|   True|  150|\n",
      "|   739964|Investing And Tra...|Business Finance|    Beginner Level|               1.0|          26|           1540|        178|   True|   65|\n",
      "|   403100|Trading Stock Cha...|Business Finance|        All Levels|               2.5|          23|           2917|        148|   True|   95|\n",
      "|   476268|Options Trading 3...|Business Finance|      Expert Level|               2.5|          38|           5172|         34|   True|  195|\n",
      "|  1167710|The Only Investme...|Business Finance|        All Levels|               1.0|          15|            827|         14|   True|  200|\n",
      "|   592338|Forex Trading Sec...|Business Finance|        All Levels|               5.0|          76|           4284|         93|   True|  200|\n",
      "|   975046|Trading Options W...|Business Finance|        All Levels|               1.0|          17|           1380|         42|   True|  200|\n",
      "|   742602|Financial Managem...|Business Finance|        All Levels|               1.5|          19|           3607|         21|   True|   30|\n",
      "|   794151|Forex Trading Cou...|Business Finance|        All Levels|               2.0|          16|           4061|         52|   True|  195|\n",
      "|  1196544|Python Algo Tradi...|Business Finance|        All Levels|               7.0|          42|            294|         19|   True|  200|\n",
      "|   504036|Short Selling: Le...|Business Finance|Intermediate Level|               1.5|          19|           2276|        106|   True|   75|\n",
      "|   719698|Basic Technical A...|Business Finance|    Beginner Level|               1.5|          16|           4919|         79|   True|   20|\n",
      "|   564966|The Complete Char...|Business Finance|        All Levels|               4.0|          52|           2666|        115|   True|  200|\n",
      "|   606928|7 Deadly Mistakes...|Business Finance|        All Levels|               1.5|          23|           5354|         24|   True|   50|\n",
      "|    58977|Financial Stateme...|Business Finance|    Beginner Level|0.5833333333333334|          12|           8095|        249|   True|   95|\n",
      "+---------+--------------------+----------------+------------------+------------------+------------+---------------+-----------+-------+-----+\n",
      "only showing top 20 rows\n",
      "\n"
     ]
    }
   ],
   "source": [
    "course_df=udemy_course_df.select([\"course_id\",\"course_title\",\"subject\",\"level\",\"content_duration\",\n",
    "                                  \"num_lectures\",\"num_subscribers\",\"num_reviews\",\"is_paid\",\"price\"])\n",
    "course_df.show()\n"
   ]
  },
  {
   "cell_type": "code",
   "execution_count": 10,
   "id": "1ebbf32c",
   "metadata": {},
   "outputs": [
    {
     "data": {
      "text/plain": [
       "3668"
      ]
     },
     "execution_count": 10,
     "metadata": {},
     "output_type": "execute_result"
    }
   ],
   "source": [
    "course_df.count()"
   ]
  },
  {
   "cell_type": "code",
   "execution_count": 11,
   "id": "6d18c3ce",
   "metadata": {},
   "outputs": [
    {
     "data": {
      "text/plain": [
       "pyspark.sql.dataframe.DataFrame"
      ]
     },
     "execution_count": 11,
     "metadata": {},
     "output_type": "execute_result"
    }
   ],
   "source": [
    "type(course_df)"
   ]
  },
  {
   "cell_type": "code",
   "execution_count": 12,
   "id": "4bc33fe9",
   "metadata": {},
   "outputs": [
    {
     "name": "stderr",
     "output_type": "stream",
     "text": [
      "\r",
      "[Stage 8:>                                                          (0 + 1) / 1]\r"
     ]
    },
    {
     "name": "stdout",
     "output_type": "stream",
     "text": [
      "+---------+--------------------+----------------+--------------+----------------+------------+---------------+-----------+-------+-----+--------------------+\n",
      "|course_id|        course_title|         subject|         level|content_duration|num_lectures|num_subscribers|num_reviews|is_paid|price|         Course List|\n",
      "+---------+--------------------+----------------+--------------+----------------+------------+---------------+-----------+-------+-----+--------------------+\n",
      "|    48841|Accounting in 60 ...|Business Finance|Beginner Level|             1.5|          16|          56659|       4397|  False|    0|[Essentials of mo...|\n",
      "|   173548|Build Your First ...| Web Development|Beginner Level|             3.0|          30|         120291|       5924|  False|    0|[The Ultimate Wor...|\n",
      "|    41295|Learn HTML5 Progr...| Web Development|    All Levels|            10.5|          45|         268923|       8629|  False|    0|[The Ultimate Wor...|\n",
      "|   314462|Quickstart AngularJS| Web Development|Beginner Level|             1.5|          17|          64128|       4047|  False|    0|[The Ultimate Wor...|\n",
      "|   405926|HTML and CSS for ...| Web Development|    All Levels|             6.0|          50|          70773|       5660|  False|    0|[The Ultimate Wor...|\n",
      "|   130064|Practical PHP: Ma...| Web Development|    All Levels|             6.5|          45|          83737|       4598|  False|    0|[The Ultimate Wor...|\n",
      "|   473160|Web Design for We...| Web Development|    All Levels|             3.0|          20|          98867|       6512|  False|    0|[The Ultimate Wor...|\n",
      "+---------+--------------------+----------------+--------------+----------------+------------+---------------+-----------+-------+-----+--------------------+\n",
      "\n"
     ]
    },
    {
     "name": "stderr",
     "output_type": "stream",
     "text": [
      "\r",
      "                                                                                \r"
     ]
    }
   ],
   "source": [
    "#  making windows spec for partition by subject\n",
    "windowSpec=Window.partitionBy(\"subject\").orderBy(F.asc(\"num_subscribers\"))\n",
    "\n",
    "# 1. What are the best free courses by subject?\n",
    "win_course_df=course_df.withColumn(\"Course List\",F.collect_list(F.col(\"course_title\")).over(windowSpec))\\\n",
    "    .filter(F.col(\"is_paid\")==\"False\")\\\n",
    "    .filter(F.col(\"num_subscribers\")>50000)\\\n",
    "    .filter(F.col(\"num_reviews\")>3000)\n",
    "\n",
    "    \n",
    "win_course_df.show()"
   ]
  },
  {
   "cell_type": "code",
   "execution_count": 13,
   "id": "c391ab37",
   "metadata": {},
   "outputs": [
    {
     "name": "stdout",
     "output_type": "stream",
     "text": [
      "+---------+--------------------+-------------------+--------------+----------------+------------+---------------+-----------+-------+-----+--------------+\n",
      "|course_id|        course_title|            subject|         level|content_duration|num_lectures|num_subscribers|num_reviews|is_paid|price|Popular Course|\n",
      "+---------+--------------------+-------------------+--------------+----------------+------------+---------------+-----------+-------+-----+--------------+\n",
      "|    48841|Accounting in 60 ...|   Business Finance|Beginner Level|             1.5|          16|          56659|       4397|  False|    0|         56659|\n",
      "|   238934|Pianoforall - Inc...|Musical Instruments|    All Levels|            30.0|         362|          75499|       7676|   True|  200|         75499|\n",
      "|   764164|The Complete Web ...|    Web Development|    All Levels|            30.5|         304|         114512|      22412|   True|  200|        114512|\n",
      "|   173548|Build Your First ...|    Web Development|Beginner Level|             3.0|          30|         120291|       5924|  False|    0|        120291|\n",
      "|   625204|The Web Developer...|    Web Development|    All Levels|            43.0|         342|         121584|      27445|   True|  200|        121584|\n",
      "|    41295|Learn HTML5 Progr...|    Web Development|    All Levels|            10.5|          45|         268923|       8629|  False|    0|        268923|\n",
      "|   705264|Modern React with...|    Web Development|    All Levels|            26.5|         150|          50815|      15117|   True|  180|         50815|\n",
      "|   461160|Learn and Underst...|    Web Development|    All Levels|            13.0|          98|          58208|      11123|   True|  195|         58208|\n",
      "|   289230|Learn and Underst...|    Web Development|    All Levels|             7.0|          55|          59361|      11580|   True|  175|         59361|\n",
      "|   314462|Quickstart AngularJS|    Web Development|Beginner Level|             1.5|          17|          64128|       4047|  False|    0|         64128|\n",
      "|   405926|HTML and CSS for ...|    Web Development|    All Levels|             6.0|          50|          70773|       5660|  False|    0|         70773|\n",
      "|   756150|Angular 4 (former...|    Web Development|    All Levels|            22.0|         329|          73783|      19649|   True|  190|         73783|\n",
      "|   364426|JavaScript: Under...|    Web Development|    All Levels|            11.5|          85|          79612|      16976|   True|  175|         79612|\n",
      "|   130064|Practical PHP: Ma...|    Web Development|    All Levels|             6.5|          45|          83737|       4598|  False|    0|         83737|\n",
      "|   473160|Web Design for We...|    Web Development|    All Levels|             3.0|          20|          98867|       6512|  False|    0|         98867|\n",
      "+---------+--------------------+-------------------+--------------+----------------+------------+---------------+-----------+-------+-----+--------------+\n",
      "\n"
     ]
    }
   ],
   "source": [
    "# 2. What are the most popular courses?\n",
    "win_popular_course_df=course_df.withColumn(\"Popular Course\",F.max(F.col(\"num_subscribers\")).over(windowSpec))\\\n",
    "    .filter(F.col(\"num_subscribers\")>50000)\\\n",
    "    .filter(F.col(\"num_reviews\")>3000)\n",
    "\n",
    "win_popular_course_df.show()"
   ]
  },
  {
   "cell_type": "code",
   "execution_count": 14,
   "id": "8b19a291",
   "metadata": {},
   "outputs": [
    {
     "name": "stderr",
     "output_type": "stream",
     "text": [
      "\r",
      "[Stage 14:>                                                         (0 + 1) / 1]\r"
     ]
    },
    {
     "name": "stdout",
     "output_type": "stream",
     "text": [
      "+---------+--------------------+----------------+------------------+------------------+------------+---------------+-----------+-------+-----+--------------------+-----------------------------+-------------------------+--------------+----------------+\n",
      "|course_id|        course_title|         subject|             level|  content_duration|num_lectures|num_subscribers|num_reviews|is_paid|price|         Course List|average number of subscribers|average number of reviews|average prices|average lectures|\n",
      "+---------+--------------------+----------------+------------------+------------------+------------+---------------+-----------+-------+-----+--------------------+-----------------------------+-------------------------+--------------+----------------+\n",
      "|   837322|Essentials of mon...|Business Finance|        All Levels|0.6166666666666667|          20|              0|          0|   True|   20|[Essentials of mo...|                          0.0|                      0.0|        53.375|          12.775|\n",
      "|  1157298|Introduction to F...|Business Finance|    Beginner Level|               1.5|          27|              0|          0|   True|   20|[Essentials of mo...|                          0.0|                      0.0|        53.375|          12.775|\n",
      "|  1282064|Cryptocurrency (B...|Business Finance|    Beginner Level|               2.5|           7|              0|          0|   True|   20|[Essentials of mo...|                          0.0|                      0.0|        53.375|          12.775|\n",
      "|  1247992|Introduction to P...|Business Finance|    Beginner Level|               2.0|           9|              0|          0|   True|   50|[Essentials of mo...|                          0.0|                      0.0|        53.375|          12.775|\n",
      "|  1251582|Best Practices in...|Business Finance|Intermediate Level|               2.0|           9|              0|          0|   True|   50|[Essentials of mo...|                          0.0|                      0.0|        53.375|          12.775|\n",
      "|  1258666|Financial Stateme...|Business Finance|Intermediate Level|               2.0|           9|              0|          0|   True|   50|[Essentials of mo...|                          0.0|                      0.0|        53.375|          12.775|\n",
      "|  1168172|Case studies on c...|Business Finance|    Beginner Level|               3.5|          15|              0|          0|   True|   20|[Essentials of mo...|                          0.0|                      0.0|        53.375|          12.775|\n",
      "|  1233314|Building a Balanc...|Business Finance|Intermediate Level|               2.0|          11|              0|          0|   True|   50|[Essentials of mo...|                          0.0|                      0.0|        53.375|          12.775|\n",
      "|  1276182|Options Trading F...|Business Finance|Intermediate Level|               1.0|           5|              0|          0|   True|   95|[Essentials of mo...|                          0.0|                      0.0|        53.375|          12.775|\n",
      "|  1187084|Forex how traders...|Business Finance|        All Levels|               1.0|          16|              0|          0|   True|  100|[Essentials of mo...|                          0.0|                      0.0|        53.375|          12.775|\n",
      "|  1084454|CFA Level 2- Quan...|Business Finance|        All Levels|               5.5|          35|              0|          0|   True|   40|[Essentials of mo...|                          0.0|                      0.0|        53.375|          12.775|\n",
      "|   885413|Foundations of In...|Business Finance|    Beginner Level|               2.0|          18|              0|          0|   True|   40|[Essentials of mo...|                          0.0|                      0.0|        53.375|          12.775|\n",
      "|  1064904|Evolution and Fea...|Business Finance|        All Levels|0.7166666666666667|          10|              0|          0|   True|  100|[Essentials of mo...|                          0.0|                      0.0|        53.375|          12.775|\n",
      "|  1215926|Kickstarter succe...|Business Finance|        All Levels|0.5166666666666666|          12|              0|          0|   True|   20|[Essentials of mo...|                          0.0|                      0.0|        53.375|          12.775|\n",
      "|  1035638|Understanding Fin...|Business Finance|        All Levels|               1.0|          10|              0|          0|   True|   25|[Essentials of mo...|                          0.0|                      0.0|        53.375|          12.775|\n",
      "|  1249146|Planning and Exec...|Business Finance|Intermediate Level|               2.0|           9|              0|          0|   True|   50|[Essentials of mo...|                          0.0|                      0.0|        53.375|          12.775|\n",
      "|   975910|How to achieve pe...|Business Finance|        All Levels|0.5333333333333333|          10|              0|          0|   True|   20|[Essentials of mo...|                          0.0|                      0.0|        53.375|          12.775|\n",
      "|  1221942|   Basic Bookkeeping|Business Finance|    Beginner Level|0.7333333333333333|          12|              0|          0|   True|   35|[Essentials of mo...|                          0.0|                      0.0|        53.375|          12.775|\n",
      "|  1169196|Credit concepts a...|Business Finance|    Beginner Level|               2.5|          10|              0|          0|   True|   20|[Essentials of mo...|                          0.0|                      0.0|        53.375|          12.775|\n",
      "|  1271182|Practical Film Fi...|Business Finance|    Beginner Level|               1.0|           9|              0|          0|   True|  100|[Essentials of mo...|                          0.0|                      0.0|        53.375|          12.775|\n",
      "+---------+--------------------+----------------+------------------+------------------+------------+---------------+-----------+-------+-----+--------------------+-----------------------------+-------------------------+--------------+----------------+\n",
      "only showing top 20 rows\n",
      "\n"
     ]
    },
    {
     "name": "stderr",
     "output_type": "stream",
     "text": [
      "\r",
      "                                                                                \r"
     ]
    }
   ],
   "source": [
    "# 3. List the courses that are specialized to “Business Finance” and find the average number of subscribers, \n",
    "# reviews, price and lectures on the subject.\n",
    "\n",
    "win_special_course_df=course_df.withColumn(\"Course List\",F.collect_list(F.col(\"course_title\")).over(windowSpec))\\\n",
    "    .withColumn(\"average number of subscribers\",F.avg(F.col(\"num_subscribers\")).over(windowSpec))\\\n",
    "    .withColumn(\"average number of reviews\",F.avg(F.col(\"num_reviews\")).over(windowSpec))\\\n",
    "    .withColumn(\"average prices\",F.avg(F.col(\"price\")).over(windowSpec))\\\n",
    "    .withColumn(\"average lectures\",F.avg(F.col(\"num_lectures\")).over(windowSpec))\\\n",
    "    .filter(F.col(\"subject\")==\"Business Finance\")\n",
    "\n",
    "win_special_course_df.show()"
   ]
  },
  {
   "cell_type": "code",
   "execution_count": 16,
   "id": "3ee9ad05",
   "metadata": {},
   "outputs": [
    {
     "name": "stdout",
     "output_type": "stream",
     "text": [
      "+---------+--------------------+----------------+--------------+----------------+------------+---------------+-----------+-------+-----+\n",
      "|course_id|        course_title|         subject|         level|content_duration|num_lectures|num_subscribers|num_reviews|is_paid|price|\n",
      "+---------+--------------------+----------------+--------------+----------------+------------+---------------+-----------+-------+-----+\n",
      "|    48841|Accounting in 60 ...|Business Finance|Beginner Level|             1.5|          16|          56659|       4397|  False|    0|\n",
      "|   473160|Web Design for We...| Web Development|    All Levels|             3.0|          20|          98867|       6512|  False|    0|\n",
      "|   314462|Quickstart AngularJS| Web Development|Beginner Level|             1.5|          17|          64128|       4047|  False|    0|\n",
      "|   173548|Build Your First ...| Web Development|Beginner Level|             3.0|          30|         120291|       5924|  False|    0|\n",
      "|    41295|Learn HTML5 Progr...| Web Development|    All Levels|            10.5|          45|         268923|       8629|  False|    0|\n",
      "|   756150|Angular 4 (former...| Web Development|    All Levels|            22.0|         329|          73783|      19649|   True|  190|\n",
      "|   289230|Learn and Underst...| Web Development|    All Levels|             7.0|          55|          59361|      11580|   True|  175|\n",
      "|   364426|JavaScript: Under...| Web Development|    All Levels|            11.5|          85|          79612|      16976|   True|  175|\n",
      "|   461160|Learn and Underst...| Web Development|    All Levels|            13.0|          98|          58208|      11123|   True|  195|\n",
      "|   705264|Modern React with...| Web Development|    All Levels|            26.5|         150|          50815|      15117|   True|  180|\n",
      "|   130064|Practical PHP: Ma...| Web Development|    All Levels|             6.5|          45|          83737|       4598|  False|    0|\n",
      "|   405926|HTML and CSS for ...| Web Development|    All Levels|             6.0|          50|          70773|       5660|  False|    0|\n",
      "+---------+--------------------+----------------+--------------+----------------+------------+---------------+-----------+-------+-----+\n",
      "\n"
     ]
    }
   ],
   "source": [
    "# 5. Which courses offer the best cost benefit?\n",
    "win_cost_benefit_course_df=course_df.filter(F.col(\"num_subscribers\")>50000)\\\n",
    "    .filter(F.col(\"num_reviews\")>3000)\\\n",
    "    .filter(F.col(\"price\")<200)\n",
    "\n",
    "win_cost_benefit_course_df.show()"
   ]
  },
  {
   "cell_type": "code",
   "execution_count": 19,
   "id": "303537a0",
   "metadata": {},
   "outputs": [
    {
     "name": "stdout",
     "output_type": "stream",
     "text": [
      "+--------------------+------------+\n",
      "|        course_title|num_lectures|\n",
      "+--------------------+------------+\n",
      "|Ultimate Investme...|          51|\n",
      "|Complete GST Cour...|         274|\n",
      "|Financial Modelin...|          51|\n",
      "|Beginner to Pro -...|          36|\n",
      "|How To Maximize Y...|          26|\n",
      "|Trading Penny Sto...|          25|\n",
      "|Investing And Tra...|          26|\n",
      "|Trading Stock Cha...|          23|\n",
      "|Options Trading 3...|          38|\n",
      "|Forex Trading Sec...|          76|\n",
      "|Trading Options W...|          17|\n",
      "|Financial Managem...|          19|\n",
      "|Forex Trading Cou...|          16|\n",
      "|Python Algo Tradi...|          42|\n",
      "|Short Selling: Le...|          19|\n",
      "|Basic Technical A...|          16|\n",
      "|The Complete Char...|          52|\n",
      "|7 Deadly Mistakes...|          23|\n",
      "|Winning Forex Tra...|          25|\n",
      "|Forex Traders - C...|          39|\n",
      "+--------------------+------------+\n",
      "only showing top 20 rows\n",
      "\n"
     ]
    }
   ],
   "source": [
    "# 6. Find the courses which have more than 15 lectures.\n",
    "course15_df=course_df.select([\"course_title\",\"num_lectures\"]).filter(F.col(\"num_lectures\")>15)\n",
    "course15_df.show()"
   ]
  },
  {
   "cell_type": "code",
   "execution_count": 20,
   "id": "4c9db19b",
   "metadata": {},
   "outputs": [
    {
     "name": "stderr",
     "output_type": "stream",
     "text": [
      "\r",
      "[Stage 20:>                                                         (0 + 1) / 1]\r",
      "\r",
      "                                                                                \r"
     ]
    },
    {
     "name": "stdout",
     "output_type": "stream",
     "text": [
      "+---------+--------------------+----------------+----------+----------------+------------+---------------+-----------+-------+-----+--------------------+\n",
      "|course_id|        course_title|         subject|     level|content_duration|num_lectures|num_subscribers|num_reviews|is_paid|price|         Course List|\n",
      "+---------+--------------------+----------------+----------+----------------+------------+---------------+-----------+-------+-----+--------------------+\n",
      "|  1113822|Complete GST Cour...|Business Finance|All Levels|            39.0|         274|           2792|        923|   True|   75|[Ultimate Investm...|\n",
      "|  1210588|Beginner to Pro -...|Business Finance|All Levels|             3.0|          36|           2451|         11|   True|   95|[Ultimate Investm...|\n",
      "|   192870|Trading Penny Sto...|Business Finance|All Levels|             3.0|          25|           9221|        138|   True|  150|[Ultimate Investm...|\n",
      "|   592338|Forex Trading Sec...|Business Finance|All Levels|             5.0|          76|           4284|         93|   True|  200|[Ultimate Investm...|\n",
      "|  1196544|Python Algo Tradi...|Business Finance|All Levels|             7.0|          42|            294|         19|   True|  200|[Ultimate Investm...|\n",
      "|   564966|The Complete Char...|Business Finance|All Levels|             4.0|          52|           2666|        115|   True|  200|[Ultimate Investm...|\n",
      "|   798740|Forex Traders - C...|Business Finance|All Levels|             4.0|          39|           2295|         84|   True|  200|[Ultimate Investm...|\n",
      "|   383414|Beginner to Pro i...|Business Finance|All Levels|             5.0|          50|           5786|        518|   True|  150|[Ultimate Investm...|\n",
      "|   353044|Investing 101: Th...|Business Finance|All Levels|             4.5|          42|           5334|        373|   True|  200|[Ultimate Investm...|\n",
      "|   831066|Learn MQL5: Build...|Business Finance|All Levels|             4.5|          81|           2877|        103|   True|  150|[Ultimate Investm...|\n",
      "|   380970|The Complete Bitc...|Business Finance|All Levels|             6.5|          80|           8797|        449|   True|   45|[Ultimate Investm...|\n",
      "|   888716|Introduction to F...|Business Finance|All Levels|             4.5|          61|          11441|       1118|   True|  200|[Ultimate Investm...|\n",
      "|   321410|Beginner to Pro i...|Business Finance|All Levels|             7.5|         138|          22257|       2697|   True|  195|[Ultimate Investm...|\n",
      "|   965832|The Complete Inve...|Business Finance|All Levels|             5.5|         110|           8575|        809|   True|  195|[Ultimate Investm...|\n",
      "|   648826|The Complete Fina...|Business Finance|All Levels|            10.0|         174|          24481|       2347|   True|  195|[Ultimate Investm...|\n",
      "|  1035472|Python for Financ...|Business Finance|All Levels|             6.5|         103|           3811|        278|   True|  195|[Ultimate Investm...|\n",
      "|   301442|Black Algo Tradin...|Business Finance|All Levels|            16.0|         227|          20195|       1113|   True|  200|[Ultimate Investm...|\n",
      "|   640100|Accounting & Fina...|Business Finance|All Levels|             3.0|          43|          10042|        594|   True|  150|[Ultimate Investm...|\n",
      "|  1247394|Cryptocurrency Tr...|Business Finance|All Levels|             5.0|          35|            367|         42|   True|   95|[Ultimate Investm...|\n",
      "|   260470|Forex Robots: Exp...|Business Finance|All Levels|             5.5|          42|          10603|        872|   True|  200|[Ultimate Investm...|\n",
      "+---------+--------------------+----------------+----------+----------------+------------+---------------+-----------+-------+-----+--------------------+\n",
      "only showing top 20 rows\n",
      "\n"
     ]
    }
   ],
   "source": [
    "# 7. Find the courses which have duration greater than 2 hours.\n",
    "windowSpec=Window.partitionBy(\"level\")\n",
    "\n",
    "win_level_df=course_df.withColumn(\"Course List\",F.collect_list(F.col(\"course_title\")).over(windowSpec))\\\n",
    "    .filter(F.col(\"content_duration\")>2)\n",
    "win_level_df.show()"
   ]
  }
 ],
 "metadata": {
  "kernelspec": {
   "display_name": "Python 3 (ipykernel)",
   "language": "python",
   "name": "python3"
  },
  "language_info": {
   "codemirror_mode": {
    "name": "ipython",
    "version": 3
   },
   "file_extension": ".py",
   "mimetype": "text/x-python",
   "name": "python",
   "nbconvert_exporter": "python",
   "pygments_lexer": "ipython3",
   "version": "3.10.6"
  }
 },
 "nbformat": 4,
 "nbformat_minor": 5
}
