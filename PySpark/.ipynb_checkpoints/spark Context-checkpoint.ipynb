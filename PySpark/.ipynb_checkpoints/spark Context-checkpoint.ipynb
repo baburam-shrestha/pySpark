{
 "cells": [
  {
   "cell_type": "code",
   "execution_count": 1,
   "id": "e09e6bb7",
   "metadata": {},
   "outputs": [],
   "source": [
    "# importing \n",
    "import pyspark\n",
    "from pyspark import SparkContext\n",
    "from pyspark.sql import SparkSession\n",
    "from pyspark.sql import SQLContext\n"
   ]
  },
  {
   "cell_type": "code",
   "execution_count": 10,
   "id": "86c15c63",
   "metadata": {},
   "outputs": [],
   "source": [
    "# creating configuration\n",
    "conf = pyspark.SparkConf().setMaster(\"local\").setAppName(\"Python Spark Configuration\").setAll([(\"spark.driver.memory\",\"10g\"),(\"spark.executor.memory\",\"10g\")])"
   ]
  },
  {
   "cell_type": "code",
   "execution_count": 11,
   "id": "004f129b",
   "metadata": {},
   "outputs": [],
   "source": [
    "# creating spark conf object as sc\n",
    "sc = SparkContext(conf=conf)\n",
    "# by clicking the Spark UI link we can explore "
   ]
  },
  {
   "cell_type": "code",
   "execution_count": 13,
   "id": "64970e2f",
   "metadata": {},
   "outputs": [
    {
     "data": {
      "text/html": [
       "\n",
       "        <div>\n",
       "            <p><b>SparkContext</b></p>\n",
       "\n",
       "            <p><a href=\"http://192.168.18.113:4040\">Spark UI</a></p>\n",
       "\n",
       "            <dl>\n",
       "              <dt>Version</dt>\n",
       "                <dd><code>v3.3.0</code></dd>\n",
       "              <dt>Master</dt>\n",
       "                <dd><code>local</code></dd>\n",
       "              <dt>AppName</dt>\n",
       "                <dd><code>Python Spark Configuration</code></dd>\n",
       "            </dl>\n",
       "        </div>\n",
       "        "
      ],
      "text/plain": [
       "<SparkContext master=local appName=Python Spark Configuration>"
      ]
     },
     "execution_count": 13,
     "metadata": {},
     "output_type": "execute_result"
    }
   ],
   "source": [
    "sc"
   ]
  },
  {
   "cell_type": "code",
   "execution_count": 15,
   "id": "812bd853",
   "metadata": {},
   "outputs": [],
   "source": [
    "sqlC=SQLContext(sc)"
   ]
  },
  {
   "cell_type": "code",
   "execution_count": 16,
   "id": "2d9ecdba",
   "metadata": {},
   "outputs": [
    {
     "data": {
      "text/plain": [
       "<pyspark.sql.context.SQLContext at 0x7f3844cf7430>"
      ]
     },
     "execution_count": 16,
     "metadata": {},
     "output_type": "execute_result"
    }
   ],
   "source": [
    "# we can able to use sql in spark\n",
    "sqlC"
   ]
  },
  {
   "cell_type": "code",
   "execution_count": 7,
   "id": "f3e308ff",
   "metadata": {},
   "outputs": [],
   "source": [
    "sc.stop()"
   ]
  },
  {
   "cell_type": "code",
   "execution_count": null,
   "id": "28d41781",
   "metadata": {},
   "outputs": [],
   "source": []
  }
 ],
 "metadata": {
  "kernelspec": {
   "display_name": "Python 3 (ipykernel)",
   "language": "python",
   "name": "python3"
  },
  "language_info": {
   "codemirror_mode": {
    "name": "ipython",
    "version": 3
   },
   "file_extension": ".py",
   "mimetype": "text/x-python",
   "name": "python",
   "nbconvert_exporter": "python",
   "pygments_lexer": "ipython3",
   "version": "3.10.6"
  }
 },
 "nbformat": 4,
 "nbformat_minor": 5
}
